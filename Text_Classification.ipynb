{
  "nbformat": 4,
  "nbformat_minor": 0,
  "metadata": {
    "colab": {
      "name": "Text Classification.ipynb",
      "provenance": [],
      "collapsed_sections": []
    },
    "kernelspec": {
      "name": "python3",
      "display_name": "Python 3"
    }
  },
  "cells": [
    {
      "cell_type": "code",
      "metadata": {
        "colab": {
          "base_uri": "https://localhost:8080/"
        },
        "id": "bT9lHgap1ZO1",
        "outputId": "5064f31e-e634-48e8-ba01-cc556f524299"
      },
      "source": [
        "from google.colab import drive\r\n",
        "drive.mount('/content/drive/')"
      ],
      "execution_count": null,
      "outputs": [
        {
          "output_type": "stream",
          "text": [
            "Drive already mounted at /content/drive/; to attempt to forcibly remount, call drive.mount(\"/content/drive/\", force_remount=True).\n"
          ],
          "name": "stdout"
        }
      ]
    },
    {
      "cell_type": "code",
      "metadata": {
        "id": "rpZZTHG35uWx"
      },
      "source": [
        "#importing pandas and numpy\r\n",
        "import pandas as pd\r\n",
        "import numpy as np\r\n",
        "import seaborn as sns\r\n",
        "import matplotlib.pyplot as plt\r\n",
        "%matplotlib inline\r\n"
      ],
      "execution_count": null,
      "outputs": []
    },
    {
      "cell_type": "code",
      "metadata": {
        "id": "7WOEHCxY5uZr"
      },
      "source": [
        "#importing the data\r\n",
        "df= pd.read_excel('/content/drive/MyDrive/Colab Notebooks/Problem1_data.xlsx')\r\n",
        "df.head()\r\n"
      ],
      "execution_count": null,
      "outputs": []
    },
    {
      "cell_type": "code",
      "metadata": {
        "colab": {
          "base_uri": "https://localhost:8080/"
        },
        "id": "Pf6PHyZm5ucT",
        "outputId": "e02d3536-66da-4482-af14-687fab630840"
      },
      "source": [
        "df.shape"
      ],
      "execution_count": null,
      "outputs": [
        {
          "output_type": "execute_result",
          "data": {
            "text/plain": [
              "(110, 1)"
            ]
          },
          "metadata": {
            "tags": []
          },
          "execution_count": 110
        }
      ]
    },
    {
      "cell_type": "code",
      "metadata": {
        "colab": {
          "base_uri": "https://localhost:8080/"
        },
        "id": "zcp9_v6yc2dG",
        "outputId": "932b68c9-4c34-41a9-a783-c8d9b94b7b58"
      },
      "source": [
        "df.isnull().sum()"
      ],
      "execution_count": null,
      "outputs": [
        {
          "output_type": "execute_result",
          "data": {
            "text/plain": [
              "E-Mails    0\n",
              "dtype: int64"
            ]
          },
          "metadata": {
            "tags": []
          },
          "execution_count": 111
        }
      ]
    },
    {
      "cell_type": "code",
      "metadata": {
        "id": "TWD5k0f5dDdq"
      },
      "source": [
        "df=df.dropna()"
      ],
      "execution_count": null,
      "outputs": []
    },
    {
      "cell_type": "code",
      "metadata": {
        "colab": {
          "base_uri": "https://localhost:8080/"
        },
        "id": "tLXtCSfW5uee",
        "outputId": "444ff2a6-2512-4bea-f840-dbb27e04983d"
      },
      "source": [
        "df.info()"
      ],
      "execution_count": null,
      "outputs": [
        {
          "output_type": "stream",
          "text": [
            "<class 'pandas.core.frame.DataFrame'>\n",
            "Int64Index: 110 entries, 0 to 109\n",
            "Data columns (total 1 columns):\n",
            " #   Column   Non-Null Count  Dtype \n",
            "---  ------   --------------  ----- \n",
            " 0   E-Mails  110 non-null    object\n",
            "dtypes: object(1)\n",
            "memory usage: 1.7+ KB\n"
          ],
          "name": "stdout"
        }
      ]
    },
    {
      "cell_type": "code",
      "metadata": {
        "id": "4jF_Ytgk5uhV"
      },
      "source": [
        "import os\r\n",
        "import re\r\n",
        "import string\r\n",
        "import nltk\r\n",
        "from nltk.corpus import stopwords\r\n",
        "from nltk import ngrams\r\n",
        "from nltk.probability import FreqDist"
      ],
      "execution_count": null,
      "outputs": []
    },
    {
      "cell_type": "markdown",
      "metadata": {
        "id": "6cQPWRs7v6cU"
      },
      "source": [
        "###Data Cleaning"
      ]
    },
    {
      "cell_type": "code",
      "metadata": {
        "colab": {
          "base_uri": "https://localhost:8080/"
        },
        "id": "xOfYWWMq5ukI",
        "outputId": "87168e09-aca4-4001-87bd-e847a7966ff7"
      },
      "source": [
        "nltk.download('stopwords')"
      ],
      "execution_count": null,
      "outputs": [
        {
          "output_type": "stream",
          "text": [
            "[nltk_data] Downloading package stopwords to /root/nltk_data...\n",
            "[nltk_data]   Unzipping corpora/stopwords.zip.\n"
          ],
          "name": "stdout"
        },
        {
          "output_type": "execute_result",
          "data": {
            "text/plain": [
              "True"
            ]
          },
          "metadata": {
            "tags": []
          },
          "execution_count": 59
        }
      ]
    },
    {
      "cell_type": "code",
      "metadata": {
        "id": "KTTnOcrp5umu"
      },
      "source": [
        "stopword = nltk.corpus.stopwords.words('english')\r\n",
        "stopword.extend(('thank','respected','sir','regards','dear','due','able','get','thanks','hello','madam','got','know','hi','please','kindly','course','session','help', 'already', 'also','could','getting', 'give','hence', 'hope','pls', 'plz','regardshi','really','see','th','thanking', 'today','would', 'yesterday','want','wanted'))"
      ],
      "execution_count": null,
      "outputs": []
    },
    {
      "cell_type": "code",
      "metadata": {
        "colab": {
          "base_uri": "https://localhost:8080/"
        },
        "id": "tf5e005Z5upZ",
        "outputId": "c0115b98-94ff-4add-aa83-d54e7a39f5c4"
      },
      "source": [
        "nltk.download('wordnet')"
      ],
      "execution_count": null,
      "outputs": [
        {
          "output_type": "stream",
          "text": [
            "[nltk_data] Downloading package wordnet to /root/nltk_data...\n",
            "[nltk_data]   Unzipping corpora/wordnet.zip.\n"
          ],
          "name": "stdout"
        },
        {
          "output_type": "execute_result",
          "data": {
            "text/plain": [
              "True"
            ]
          },
          "metadata": {
            "tags": []
          },
          "execution_count": 61
        }
      ]
    },
    {
      "cell_type": "code",
      "metadata": {
        "id": "6z-L_-155usH"
      },
      "source": [
        "from nltk.stem import WordNetLemmatizer \r\n",
        "lemmatizer = WordNetLemmatizer()"
      ],
      "execution_count": null,
      "outputs": []
    },
    {
      "cell_type": "code",
      "metadata": {
        "id": "G4JNmOVK5uu3"
      },
      "source": [
        "def clean_text(text):\r\n",
        "    text = \"\".join([word.lower() for word in text if word not in string.punctuation])\r\n",
        "    text = \"\".join([word for word in text if not word.isdigit()])\r\n",
        "    tokens = re.split('\\W+', text)\r\n",
        "    text = [lemmatizer.lemmatize(word) for word in tokens if word not in stopword]\r\n",
        "    return text"
      ],
      "execution_count": null,
      "outputs": []
    },
    {
      "cell_type": "code",
      "metadata": {
        "id": "a9dRMzTu5uxx"
      },
      "source": [
        "list_of_words = clean_text(df['E-Mails'])"
      ],
      "execution_count": null,
      "outputs": []
    },
    {
      "cell_type": "markdown",
      "metadata": {
        "id": "eUtEe5tnwCue"
      },
      "source": [
        "###Count Of Words\r\n"
      ]
    },
    {
      "cell_type": "code",
      "metadata": {
        "colab": {
          "base_uri": "https://localhost:8080/"
        },
        "id": "sape5a7b5uz9",
        "outputId": "0b9b8b13-ff0b-461c-8319-84eb2bdadddc"
      },
      "source": [
        "print(\"length of the list of words\", len(list_of_words))\r\n",
        "print(list_of_words)"
      ],
      "execution_count": null,
      "outputs": [
        {
          "output_type": "stream",
          "text": [
            "length of the list of words 1468\n",
            "['applied', 'professional', 'submitted', 'document', 'review', 'application', 'login', 'detail', 'youhi', 'unable', 'change', 'password', 'error', 'message', 'screenshot', 'check', 'team', 'enrolled', 'finish', 'october', 'emergency', 'required', 'attention', 'still', 'complete', 'finish', 'session', 'found', 'session', 'immensely', 'helpful', 'therefore', 'requesting', 'possible', 'extend', 'duration', 'week', 'best', 'login', 'thankshi', 'complete', 'program', 'deadline', 'extend', 'deadline', 'hey', 'unable', 'set', 'one', 'time', 'password', 'error', 'facing', 'request', 'assistance', 'hii', 'suddenly', 'playing', 'error', 'showing', 'screen', 'allowing', 'go', 'tab', 'open', 'phone', 'screenshot', 'attached', 'facing', 'login', 'issue', 'received', 'separate', 'mail', 'comprises', 'password', 'access', 'hereby', 'attached', 'document', 'planning', 'register', 'programme', 'need', 'clarification', 'one', 'point', 'completion', 'online', 'day', 'whether', 'available', 'online', 'presently', 'working', 'present', 'covid', 'pandemic', 'possibility', 'offline', 'class', 'helpful', 'provide', 'insight', 'total', 'cost', 'program', 'regardsi', 'informed', 'contact', 'email', 'inorder', 'account', 'unable', 'complete', 'class', 'previously', 'college', 'work', 'demanding', 'time', 'class', 'period', 'support', 'registered', 'sept', 'tried', 'open', 'say', 'token', 'expired', 'unable', 'login', 'mobile', 'device', 'using', 'either', 'passcode', 'sso', 'assist', 'honorable', 'student', 'currently', 'pursuing', 'bachelor', 'engineering', 'good', 'civil', 'engineering', 'fundamental', 'discover', 'explore', 'program', 'talked', 'parent', 'program', 'said', 'utter', 'bullshit', 'use', 'believer', 'ask', 'buy', 'subscription', 'yet', 'earning', 'seen', 'people', 'believing', 'opportunity', 'experience', 'magical', 'journey', 'eager', 'hear', 'thankshi', 'watching', 'chapter', 'suddenly', 'internet', 'problem', 'clicked', 'back', 'button', 'phone', 'since', 'tried', 'many', 'time', 'unable', 'login', 'error', 'displayed', 'fix', 'issue', 'soon', 'possible', 'applied', 'covid', 'free', 'memeber', 'ship', 'pharmacicts', 'still', 'reply', 'confirmation', 'u', 'r', 'side', 'check', 'find', 'online', 'class', 'submitted', 'fee', 'done', 'registration', 'regarding', 'online', 'program', 'hindi', 'language', 'receipt', 'fee', 'deposited', 'waiting', 'detail', 'like', 'login', 'schedule', 'send', 'information', 'regarding', 'information', 'regardsdear', 'team', 'submitted', 'application', 'check', 'received', 'friend', 'going', 'said', 'online', 'credential', 'received', 'within', 'day', 'following', 'status', 'application', 'found', 'submit', 'new', 'one', 'well', 'youhi', 'team', 'registered', 'session', 'completed', 'four', 'week', 'trying', 'login', 'give', 'attached', 'error', 'message', 'set', 'password', 'log', 'start', 'find', 'trail', 'mail', 'paid', 'needful', 'account', 'going', 'expire', 'day', 'completed', 'two', 'segment', 'deadline', 'extended', 'another', 'week', 'thankyou', 'greeting', 'day', 'registered', 'couple', 'minute', 'back', 'eagerly', 'waiting', 'login', 'detail', 'share', 'detail', 'lovei', 'registered', 'september', 'finished', 'two', 'day', 'finish', 'couse', 'completely', 'yet', 'extend', 'time', 'one', 'week', 'needful', 'hii', 'seek', 'side', 'actually', 'registered', 'mistake', 'instead', 'registering', 'possible', 'cancel', 'registration', 'refund', 'chance', 'guide', 'opted', 'hindi', 'language', 'follow', 'properly', 'like', 'change', 'language', 'english', 'ready', 'pay', 'excess', 'amount', 'english', 'let', 'proceed', 'case', 'change', 'program', 'language', 'english', 'login', 'unable', 'set', 'password', 'proceed', 'concern', 'login', 'account', 'id', 'resolve', 'best', 'regardsas', 'missed', 'online', 'class', 'work', 'schedule', 'request', 'send', 'link', 'particular', 'day', 'class', 'continue', 'personal', 'reason', 'humbly', 'request', 'one', 'oppertunity', 'continue', 'team', 'applied', 'course', 'even', 'hour', 'update', 'let', 'status', 'application', 'regardsrespected', 'requested', 'change', 'name', 'completed', 'module', 'name', 'correct', 'highly', 'requested', 'change', 'name', 'thankful', 'thanksdear', 'subscribed', 'course', 'first', 'time', 'login', 'error', 'access', 'regardsi', 'registered', 'online', 'program', 'tutorial', 'mail', 'link', 'provided', 'started', 'session', 'incomplete', 'hereby', 'request', 'allowed', 'start', 'afresh', 'complete', 'whole', 'program', 'stretch', 'day', 'oblige', 'tried', 'several', 'time', 'desktop', 'site', 'even', 'mobile', 'app', 'registration', 'differ', 'language', 'time', 'showed', 'error', 'program', 'available', 'india', 'send', 'payment', 'link', 'differ', 'language', 'extend', 'validity', 'one', 'week', 'pregnent', 'complete', 'time', 'made', 'payment', 'course', 'email', 'received', 'contain', 'login', 'detail', 'soon', 'possible', 'unable', 'locate', 'mail', 'may', 'deleted', 'mistake', 'issue', 'website', 'login', 'error', 'unauthorised', 'token', 'expired', 'find', 'attached', 'screenshot', 'solve', 'video', 'module', 'login', 'enable', 'thanksyoudear', 'team', 'enrolled', 'unable', 'login', 'site', 'need', 'respect', 'mentioned', 'subject', 'date', 'emergency', 'complete', 'extension', 'completion', 'oblige', 'request', 'youi', 'confirmation', 'confirm', 'application', 'confirmed', 'opted', 'training', 'website', 'showing', 'free', 'medical', 'professional', 'medical', 'professional', 'let', 'guide', 'process', 'access', 'free', 'registered', 'enrolled', 'approve', 'application', 'asap', 'per', 'email', 'going', 'accessible', 'afteroctober', 'since', 'use', 'online', 'one', 'month', 'time', 'extend', 'time', 'period', 'allow', 'take', 'regardsdid', 'receive', 'login', 'id', 'password', 'log', 'program', 'let', 'team', 'network', 'error', 'problem', 'playing', 'first', 'video', 'min', 'tried', 'time', 'everytime', 'stuck', 'place', 'e', 'g', 'min', 'plea', 'resolving', 'language', 'conversion', 'done', 'notification', 'something', 'done', 'confirm', 'tomorrow', 'buy', 'donot', 'login', 'set', 'new', 'password', 'indicated', 'enrolled', 'course', 'couple', 'day', 'ago', 'log', 'start', 'advise', 'regardsdear', 'unable', 'login', 'page', 'request', 'solve', 'issue', 'purchased', 'open', 'new', 'password', 'setup', 'show', 'token', 'expired', 'expired', 'use', 'itkindly', 'extend', 'program', 'view', 'day', 'oblige', 'put', 'login', 'password', 'following', 'screen', 'showed', 'access', 'send', 'guide', 'line', 'english', 'submitted', 'fee', 'online', 'participation', 'access', 'program', 'set', 'password', 'go', 'loge', 'page', 'put', 'id', 'passwor', 'access', 'send', 'guide', 'line', 'english', 'procedure', 'login', 'click', 'login', 'link', 'page', 'set', 'password', 'moving', 'next', 'step', 'issue', 'regarding', 'login', 'pop', 'message', 'show', 'account', 'expired', 'regarding', 'well', 'book', 'reading', 'recording', 'kind', 'related', 'greatly', 'appreciated', 'net', 'work', 'covid', 'warriordear', 'attend', 'first', 'class', 'missing', 'last', 'manifestaion', 'tool', 'need', 'st', 'class', 'last', 'tool', 'regardsafter', 'payment', 'done', 'email', 'set', 'password', 'unable', 'set', 'password', 'typing', 'password', 'clicked', 'set', 'password', 'page', 'still', 'stuck', 'logging', 'registered', 'looking', 'forward', 'learning', 'study', 'start', 'tomorrow', 'guideline', 'given', 'mail', 'question', 'completing', 'workshop', 'giving', 'online', 'participation', 'certificate', 'looking', 'forward', 'kind', 'reply', 'understand', 'request', 'allow', 'second', 'video', 'againi', 'submitted', 'screenshot', 'receipt', 'still', 'received', 'material', 'take', 'active', 'step', 'regarding', 'registration', 'number', 'givensir', 'purched', 'class', 'unable', 'login', 'using', 'emil', 'id', 'password', 'login', 'query', 'access', 'account', 'take', 'session', 'around', 'week', 'following', 'team', 'reset', 'password', 'expired', 'request', 'increase', 'duration', 'still', 'need', 'take', 'session', 'team', 'good', 'morning', 'still', 'received', 'welcome', 'kit', 'per', 'registration', 'adress', 'issue', 'soon', 'possible', 'stay', 'safe', 'warm', 'regardssorry', 'causing', 'inconvenience', 'received', 'username', 'password', 'youhad', 'registered', 'program', 'one', 'month', 'back', 'fresh', 'registration', 'mail', 'id', 'problem', 'login', 'messege', 'password', 'invalid', 'tell', 'registered', 'login', 'error', 'invalid', 'username', 'password', 'issue', 'registered', 'wish', 'upgrade', 'english', 'language', 'audio', 'mind', 'pay', 'difference', 'amount', 'soon', 'possible', 'benefit', 'price', 'may', 'best', 'regardshello', 'per', 'telephonic', 'call', 'forwarding', 'email', 'share', 'next', 'date', 'enroll', 'completed', 'lecture', 'time', 'final', 'feedback', 'submission', 'faced', 'error', 'named', 'error', 'cmpy', 'repeated', 'time', 'logged', 'tried', 'submit', 'attaching', 'screenshot', 'reference', 'process', 'support', 'team', 'current', 'location', 'network', 'problem', 'last', 'two', 'day', 'trying', 'connect', 'video', 'buffering', 'many', 'time', 'creating', 'problem', 'unable', 'concentrate', 'received', 'message', 'mr', 'name', 'complete', 'network', 'issue', 'unable', 'request', 'extension', 'one', 'week', 'unable', 'log', 'password', 'issue', 'received', 'password', 'reset', 'link', 'mail', 'despite', 'tryingn', 'login', 'twicehi', 'planned', 'complete', 'online', 'session', 'managed', 'low', 'connectivity', 'area', 'sit', 'double', 'duration', 'onwards', 'little', 'bit', 'time', 'crunch', 'way', 'support', 'team', 'facing', 'error', 'trying', 'open', 'last', 'way', 'fix', 'message', 'try', 'open', 'video', 'file', 'cannot', 'played', 'support', 'screenshot', 'page', 'course', 'list', 'video', 'one', 'link', 'sent', 'earlier', 'expired', 'soon', 'possible', 'regardshello', 'sorry', 'apologize', 'technology', 'savvy', 'somehow', 'missed', 'part', 'afraid', 'online', 'streaming', 'tried', 'level', 'best', 'fix', 'hear', 'audio', 'kept', 'login', 'consider', 'special', 'case', 'enable', 'account', 'keep', 'mind', 'instruction', 'repeat', 'issue', 'remaining', 'session', 'need', 'resetting', 'advance', 'consider', 'request', 'time', 'team', 'work', 'commitment', 'extensive', 'travel', 'last', 'month', 'meanwhile', 'link', 'prerequisite', 'course', 'expired', 'request', 'send', 'new', 'link', 'course', 'finished', 'asap', 'best', 'hellooo', 'kept', 'encountering', 'error', 'watching', 'video', 'changed', 'browser', 'tried', 'still', 'error', 'find', 'attachmentsir', 'wasnt', 'complete', 'expired', 'failed', 'complete', 'bord', 'exam', 'renew', 'account', 'shall', 'highly', 'obligedi', 'completed', 'session', 'link', 'showing', 'mail', 'send', 'link', 'complete', 'chose', 'register', 'filled', 'detail', 'made', 'payment', 'unfortunately', 'pressed', 'back', 'button', 'page', 'lost', 'subscribtion', 'page', 'matter', 'successfully', 'registered', 'attach', 'payment', 'successfull', 'copy', 'yourespected', 'completed', 'class', 'english', 'language', 'app', 'understand', 'detail', 'review', 'class', 'hindi', 'language', 'detail', 'understanding', 'therefore', 'pray', 'review', 'class', 'understanding', 'course', 'shall', 'obliged', 'providing', 'contact', 'number', 'made', 'call', 'number', 'phone', 'picked', 'response', 'detailed', 'information', 'mam', 'currently', 'college', 'pursuing', 'graduation', 'afford', 'ask', 'family', 'money', 'say', 'focus', 'study', 'much', 'obliged', 'provide', 'free', 'jus', 'inform', 'finishing', 'class', 'husband', 'together', 'login', 'e', 'active', 'lesson', 'shown', 'completed', 'case', 'need', 'report', 'someone', 'let', 'understood', 'right', 'mr', 'second', 'name', 'looking', 'cancellation', 'refund', 'didnt', 'complete', 'chapter', 'logged', 'say', 'completed', 'task', 'assessment', 'page', 'wrote', 'concern', 'didnt', 'hear', 'chapter', 'one', 'cant', 'rewind', 'reply', 'email', 'hii', 'information', 'regarding', 'enrollment', 'online', 'day', 'received', 'invitation', 'receive', 'request', 'let', 'problem', 'registered', 'link', 'video', 'one', 'month', 'later', 'notification', 'regarding', 'watch', 'video', 'expired', 'day', 'cannot', 'login', 'account', 'reset', 'link', 'email', 'pleasure', 'suggest', 'login', 'account', 'access', 'video', 'willing', 'complete', 'video', 'four', 'day', 'admin', 'started', 'watching', 'mobile', 'bad', 'network', 'interupted', 'time', 'watch', 'video', 'completely', 'log', 'directly', 'take', 'number', 'watch', 'video', 'reset', 'link', 'watch', 'best', 'purchased', 'online', 'email', 'user', 'id', 'password', 'password', 'access', 'content', 'issue', 'regardshello', 'reply', 'left', 'confused', 'vacancy', 'available', 'course', 'scheduled', 'held', 'friend', 'participate', 'program', 'advise', 'vacancy', 'youdear', 'free', 'continue', 'online', 'program', 'extend', 'validity', 'attending', 'held', 'march', 'end', 'kind', 'student', 'busy', 'exam', 'watch', 'session', 'activate', 'session', 'complete', 'time', 'way', 'possible', 'reset', 'video', 'watched', 'online', 'watch', 'last', 'time', 'watched', 'watched', 'piece', 'watch', 'one', 'video', 'one', 'sitting', 'fully', 'disturbance', 'net', 'hostel', 'sorry', 'inconvenience', 'advance', 'done', 'online', 'send', 'detail', 'enrolled', 'attached', 'e', 'receipt', 'asked', 'previous', 'email', 'like', 'transfer', 'program', 'seat', 'wrong', 'email', 'id', 'ki', 'login', 'password', 'paid', 'different', 'paid', 'use', 'wrong', 'email', 'id', 'detail', 'refund', 'procedurehello', 'team', 'request', 'extending', 'week', 'possible', 'traveling', 'unable', 'watch', 'video', 'time', 'father', 'serious', 'health', 'issue', 'unable', 'program', 'assist', 'refund', 'registration', 'fee', 'registration', 'detail', 'follows', 'three', 'day', 'left', 'completion', 'program', 'hectic', 'schedule', 'time', 'working', 'professional', 'completed', 'three', 'day', 'guide', 'yes', 'usually', 'time', 'weekend', 'make', 'available', 'use', 'weekend', 'team', 'appreciate', 'thankful', 'extending', 'week', 'suddenly', 'plan', 'came', 'weekend', 'next', 'weekend', 'early', 'year', 'festivity', 'home', 'eg', 'makar', 'sankranti', 'request', 'disable', 'next', 'week', 'enable', 'link', 'week', 'tried', 'received', 'error', 'message', 'tried', 'phone', 'unlike', 'time', 'error', 'message', 'confirmation', 'email', 'youhello', 'looking', 'course', 'scheduled', 'mention', 'enrolled', 'program', 'need', 'register', 'separately', 'confirm', 'check', 'confirm', 'participation', 'regardsi', 'completed', 'st', 'available', 'complete', 'week', 'time', 'extending', 'week', 'watch', 'video', 'genuine', 'engagement', 'personal', 'front', 'moving', 'house', 'work', 'related', 'since', 'november', 'end', 'february', 'request', 'extend', 'date', 'march', 'rd', 'week', 'anticipation', 'painful', 'inform', 'important', 'reason', 'attend', 'held', 'registered', 'earlier', 'detail', 'given', 'needful']\n"
          ],
          "name": "stdout"
        }
      ]
    },
    {
      "cell_type": "code",
      "metadata": {
        "colab": {
          "base_uri": "https://localhost:8080/"
        },
        "id": "d9n7_9YfHOgX",
        "outputId": "78cf3592-bbde-479f-c5c9-3c3db2250cdc"
      },
      "source": [
        "b=ngrams(list_of_words,2)\r\n",
        "fdist=FreqDist(b)\r\n",
        "fdist.most_common()"
      ],
      "execution_count": null,
      "outputs": [
        {
          "output_type": "execute_result",
          "data": {
            "text/plain": [
              "[(('set', 'password'), 7),\n",
              " (('unable', 'login'), 5),\n",
              " (('soon', 'possible'), 5),\n",
              " (('watch', 'video'), 5),\n",
              " (('error', 'message'), 4),\n",
              " (('login', 'error'), 4),\n",
              " (('login', 'detail'), 3),\n",
              " (('unable', 'set'), 3),\n",
              " (('token', 'expired'), 3),\n",
              " (('online', 'program'), 3),\n",
              " (('hindi', 'language'), 3),\n",
              " (('one', 'week'), 3),\n",
              " (('login', 'account'), 3),\n",
              " (('one', 'month'), 3),\n",
              " (('id', 'password'), 3),\n",
              " (('reset', 'link'), 3),\n",
              " (('video', 'one'), 3),\n",
              " (('extending', 'week'), 3),\n",
              " (('password', 'error'), 2),\n",
              " (('team', 'enrolled'), 2),\n",
              " (('issue', 'received'), 2),\n",
              " (('password', 'access'), 2),\n",
              " (('online', 'day'), 2),\n",
              " (('back', 'button'), 2),\n",
              " (('many', 'time'), 2),\n",
              " (('issue', 'soon'), 2),\n",
              " (('online', 'class'), 2),\n",
              " (('submitted', 'fee'), 2),\n",
              " (('information', 'regarding'), 2),\n",
              " (('status', 'application'), 2),\n",
              " (('password', 'log'), 2),\n",
              " (('log', 'start'), 2),\n",
              " (('two', 'day'), 2),\n",
              " (('extend', 'time'), 2),\n",
              " (('language', 'english'), 2),\n",
              " (('request', 'send'), 2),\n",
              " (('send', 'link'), 2),\n",
              " (('requested', 'change'), 2),\n",
              " (('change', 'name'), 2),\n",
              " (('day', 'oblige'), 2),\n",
              " (('differ', 'language'), 2),\n",
              " (('extend', 'validity'), 2),\n",
              " (('complete', 'time'), 2),\n",
              " (('made', 'payment'), 2),\n",
              " (('medical', 'professional'), 2),\n",
              " (('new', 'password'), 2),\n",
              " (('login', 'password'), 2),\n",
              " (('access', 'send'), 2),\n",
              " (('send', 'guide'), 2),\n",
              " (('guide', 'line'), 2),\n",
              " (('line', 'english'), 2),\n",
              " (('online', 'participation'), 2),\n",
              " (('looking', 'forward'), 2),\n",
              " (('still', 'received'), 2),\n",
              " (('take', 'session'), 2),\n",
              " (('expired', 'request'), 2),\n",
              " (('username', 'password'), 2),\n",
              " (('password', 'issue'), 2),\n",
              " (('english', 'language'), 2),\n",
              " (('support', 'team'), 2),\n",
              " (('issue', 'unable'), 2),\n",
              " (('review', 'class'), 2),\n",
              " (('course', 'scheduled'), 2),\n",
              " (('wrong', 'email'), 2),\n",
              " (('email', 'id'), 2),\n",
              " (('three', 'day'), 2),\n",
              " (('applied', 'professional'), 1),\n",
              " (('professional', 'submitted'), 1),\n",
              " (('submitted', 'document'), 1),\n",
              " (('document', 'review'), 1),\n",
              " (('review', 'application'), 1),\n",
              " (('application', 'login'), 1),\n",
              " (('detail', 'youhi'), 1),\n",
              " (('youhi', 'unable'), 1),\n",
              " (('unable', 'change'), 1),\n",
              " (('change', 'password'), 1),\n",
              " (('message', 'screenshot'), 1),\n",
              " (('screenshot', 'check'), 1),\n",
              " (('check', 'team'), 1),\n",
              " (('enrolled', 'finish'), 1),\n",
              " (('finish', 'october'), 1),\n",
              " (('october', 'emergency'), 1),\n",
              " (('emergency', 'required'), 1),\n",
              " (('required', 'attention'), 1),\n",
              " (('attention', 'still'), 1),\n",
              " (('still', 'complete'), 1),\n",
              " (('complete', 'finish'), 1),\n",
              " (('finish', 'session'), 1),\n",
              " (('session', 'found'), 1),\n",
              " (('found', 'session'), 1),\n",
              " (('session', 'immensely'), 1),\n",
              " (('immensely', 'helpful'), 1),\n",
              " (('helpful', 'therefore'), 1),\n",
              " (('therefore', 'requesting'), 1),\n",
              " (('requesting', 'possible'), 1),\n",
              " (('possible', 'extend'), 1),\n",
              " (('extend', 'duration'), 1),\n",
              " (('duration', 'week'), 1),\n",
              " (('week', 'best'), 1),\n",
              " (('best', 'login'), 1),\n",
              " (('login', 'thankshi'), 1),\n",
              " (('thankshi', 'complete'), 1),\n",
              " (('complete', 'program'), 1),\n",
              " (('program', 'deadline'), 1),\n",
              " (('deadline', 'extend'), 1),\n",
              " (('extend', 'deadline'), 1),\n",
              " (('deadline', 'hey'), 1),\n",
              " (('hey', 'unable'), 1),\n",
              " (('set', 'one'), 1),\n",
              " (('one', 'time'), 1),\n",
              " (('time', 'password'), 1),\n",
              " (('error', 'facing'), 1),\n",
              " (('facing', 'request'), 1),\n",
              " (('request', 'assistance'), 1),\n",
              " (('assistance', 'hii'), 1),\n",
              " (('hii', 'suddenly'), 1),\n",
              " (('suddenly', 'playing'), 1),\n",
              " (('playing', 'error'), 1),\n",
              " (('error', 'showing'), 1),\n",
              " (('showing', 'screen'), 1),\n",
              " (('screen', 'allowing'), 1),\n",
              " (('allowing', 'go'), 1),\n",
              " (('go', 'tab'), 1),\n",
              " (('tab', 'open'), 1),\n",
              " (('open', 'phone'), 1),\n",
              " (('phone', 'screenshot'), 1),\n",
              " (('screenshot', 'attached'), 1),\n",
              " (('attached', 'facing'), 1),\n",
              " (('facing', 'login'), 1),\n",
              " (('login', 'issue'), 1),\n",
              " (('received', 'separate'), 1),\n",
              " (('separate', 'mail'), 1),\n",
              " (('mail', 'comprises'), 1),\n",
              " (('comprises', 'password'), 1),\n",
              " (('access', 'hereby'), 1),\n",
              " (('hereby', 'attached'), 1),\n",
              " (('attached', 'document'), 1),\n",
              " (('document', 'planning'), 1),\n",
              " (('planning', 'register'), 1),\n",
              " (('register', 'programme'), 1),\n",
              " (('programme', 'need'), 1),\n",
              " (('need', 'clarification'), 1),\n",
              " (('clarification', 'one'), 1),\n",
              " (('one', 'point'), 1),\n",
              " (('point', 'completion'), 1),\n",
              " (('completion', 'online'), 1),\n",
              " (('day', 'whether'), 1),\n",
              " (('whether', 'available'), 1),\n",
              " (('available', 'online'), 1),\n",
              " (('online', 'presently'), 1),\n",
              " (('presently', 'working'), 1),\n",
              " (('working', 'present'), 1),\n",
              " (('present', 'covid'), 1),\n",
              " (('covid', 'pandemic'), 1),\n",
              " (('pandemic', 'possibility'), 1),\n",
              " (('possibility', 'offline'), 1),\n",
              " (('offline', 'class'), 1),\n",
              " (('class', 'helpful'), 1),\n",
              " (('helpful', 'provide'), 1),\n",
              " (('provide', 'insight'), 1),\n",
              " (('insight', 'total'), 1),\n",
              " (('total', 'cost'), 1),\n",
              " (('cost', 'program'), 1),\n",
              " (('program', 'regardsi'), 1),\n",
              " (('regardsi', 'informed'), 1),\n",
              " (('informed', 'contact'), 1),\n",
              " (('contact', 'email'), 1),\n",
              " (('email', 'inorder'), 1),\n",
              " (('inorder', 'account'), 1),\n",
              " (('account', 'unable'), 1),\n",
              " (('unable', 'complete'), 1),\n",
              " (('complete', 'class'), 1),\n",
              " (('class', 'previously'), 1),\n",
              " (('previously', 'college'), 1),\n",
              " (('college', 'work'), 1),\n",
              " (('work', 'demanding'), 1),\n",
              " (('demanding', 'time'), 1),\n",
              " (('time', 'class'), 1),\n",
              " (('class', 'period'), 1),\n",
              " (('period', 'support'), 1),\n",
              " (('support', 'registered'), 1),\n",
              " (('registered', 'sept'), 1),\n",
              " (('sept', 'tried'), 1),\n",
              " (('tried', 'open'), 1),\n",
              " (('open', 'say'), 1),\n",
              " (('say', 'token'), 1),\n",
              " (('expired', 'unable'), 1),\n",
              " (('login', 'mobile'), 1),\n",
              " (('mobile', 'device'), 1),\n",
              " (('device', 'using'), 1),\n",
              " (('using', 'either'), 1),\n",
              " (('either', 'passcode'), 1),\n",
              " (('passcode', 'sso'), 1),\n",
              " (('sso', 'assist'), 1),\n",
              " (('assist', 'honorable'), 1),\n",
              " (('honorable', 'student'), 1),\n",
              " (('student', 'currently'), 1),\n",
              " (('currently', 'pursuing'), 1),\n",
              " (('pursuing', 'bachelor'), 1),\n",
              " (('bachelor', 'engineering'), 1),\n",
              " (('engineering', 'good'), 1),\n",
              " (('good', 'civil'), 1),\n",
              " (('civil', 'engineering'), 1),\n",
              " (('engineering', 'fundamental'), 1),\n",
              " (('fundamental', 'discover'), 1),\n",
              " (('discover', 'explore'), 1),\n",
              " (('explore', 'program'), 1),\n",
              " (('program', 'talked'), 1),\n",
              " (('talked', 'parent'), 1),\n",
              " (('parent', 'program'), 1),\n",
              " (('program', 'said'), 1),\n",
              " (('said', 'utter'), 1),\n",
              " (('utter', 'bullshit'), 1),\n",
              " (('bullshit', 'use'), 1),\n",
              " (('use', 'believer'), 1),\n",
              " (('believer', 'ask'), 1),\n",
              " (('ask', 'buy'), 1),\n",
              " (('buy', 'subscription'), 1),\n",
              " (('subscription', 'yet'), 1),\n",
              " (('yet', 'earning'), 1),\n",
              " (('earning', 'seen'), 1),\n",
              " (('seen', 'people'), 1),\n",
              " (('people', 'believing'), 1),\n",
              " (('believing', 'opportunity'), 1),\n",
              " (('opportunity', 'experience'), 1),\n",
              " (('experience', 'magical'), 1),\n",
              " (('magical', 'journey'), 1),\n",
              " (('journey', 'eager'), 1),\n",
              " (('eager', 'hear'), 1),\n",
              " (('hear', 'thankshi'), 1),\n",
              " (('thankshi', 'watching'), 1),\n",
              " (('watching', 'chapter'), 1),\n",
              " (('chapter', 'suddenly'), 1),\n",
              " (('suddenly', 'internet'), 1),\n",
              " (('internet', 'problem'), 1),\n",
              " (('problem', 'clicked'), 1),\n",
              " (('clicked', 'back'), 1),\n",
              " (('button', 'phone'), 1),\n",
              " (('phone', 'since'), 1),\n",
              " (('since', 'tried'), 1),\n",
              " (('tried', 'many'), 1),\n",
              " (('time', 'unable'), 1),\n",
              " (('error', 'displayed'), 1),\n",
              " (('displayed', 'fix'), 1),\n",
              " (('fix', 'issue'), 1),\n",
              " (('possible', 'applied'), 1),\n",
              " (('applied', 'covid'), 1),\n",
              " (('covid', 'free'), 1),\n",
              " (('free', 'memeber'), 1),\n",
              " (('memeber', 'ship'), 1),\n",
              " (('ship', 'pharmacicts'), 1),\n",
              " (('pharmacicts', 'still'), 1),\n",
              " (('still', 'reply'), 1),\n",
              " (('reply', 'confirmation'), 1),\n",
              " (('confirmation', 'u'), 1),\n",
              " (('u', 'r'), 1),\n",
              " (('r', 'side'), 1),\n",
              " (('side', 'check'), 1),\n",
              " (('check', 'find'), 1),\n",
              " (('find', 'online'), 1),\n",
              " (('class', 'submitted'), 1),\n",
              " (('fee', 'done'), 1),\n",
              " (('done', 'registration'), 1),\n",
              " (('registration', 'regarding'), 1),\n",
              " (('regarding', 'online'), 1),\n",
              " (('program', 'hindi'), 1),\n",
              " (('language', 'receipt'), 1),\n",
              " (('receipt', 'fee'), 1),\n",
              " (('fee', 'deposited'), 1),\n",
              " (('deposited', 'waiting'), 1),\n",
              " (('waiting', 'detail'), 1),\n",
              " (('detail', 'like'), 1),\n",
              " (('like', 'login'), 1),\n",
              " (('login', 'schedule'), 1),\n",
              " (('schedule', 'send'), 1),\n",
              " (('send', 'information'), 1),\n",
              " (('regarding', 'information'), 1),\n",
              " (('information', 'regardsdear'), 1),\n",
              " (('regardsdear', 'team'), 1),\n",
              " (('team', 'submitted'), 1),\n",
              " (('submitted', 'application'), 1),\n",
              " (('application', 'check'), 1),\n",
              " (('check', 'received'), 1),\n",
              " (('received', 'friend'), 1),\n",
              " (('friend', 'going'), 1),\n",
              " (('going', 'said'), 1),\n",
              " (('said', 'online'), 1),\n",
              " (('online', 'credential'), 1),\n",
              " (('credential', 'received'), 1),\n",
              " (('received', 'within'), 1),\n",
              " (('within', 'day'), 1),\n",
              " (('day', 'following'), 1),\n",
              " (('following', 'status'), 1),\n",
              " (('application', 'found'), 1),\n",
              " (('found', 'submit'), 1),\n",
              " (('submit', 'new'), 1),\n",
              " (('new', 'one'), 1),\n",
              " (('one', 'well'), 1),\n",
              " (('well', 'youhi'), 1),\n",
              " (('youhi', 'team'), 1),\n",
              " (('team', 'registered'), 1),\n",
              " (('registered', 'session'), 1),\n",
              " (('session', 'completed'), 1),\n",
              " (('completed', 'four'), 1),\n",
              " (('four', 'week'), 1),\n",
              " (('week', 'trying'), 1),\n",
              " (('trying', 'login'), 1),\n",
              " (('login', 'give'), 1),\n",
              " (('give', 'attached'), 1),\n",
              " (('attached', 'error'), 1),\n",
              " (('message', 'set'), 1),\n",
              " (('start', 'find'), 1),\n",
              " (('find', 'trail'), 1),\n",
              " (('trail', 'mail'), 1),\n",
              " (('mail', 'paid'), 1),\n",
              " (('paid', 'needful'), 1),\n",
              " (('needful', 'account'), 1),\n",
              " (('account', 'going'), 1),\n",
              " (('going', 'expire'), 1),\n",
              " (('expire', 'day'), 1),\n",
              " (('day', 'completed'), 1),\n",
              " (('completed', 'two'), 1),\n",
              " (('two', 'segment'), 1),\n",
              " (('segment', 'deadline'), 1),\n",
              " (('deadline', 'extended'), 1),\n",
              " (('extended', 'another'), 1),\n",
              " (('another', 'week'), 1),\n",
              " (('week', 'thankyou'), 1),\n",
              " (('thankyou', 'greeting'), 1),\n",
              " (('greeting', 'day'), 1),\n",
              " (('day', 'registered'), 1),\n",
              " (('registered', 'couple'), 1),\n",
              " (('couple', 'minute'), 1),\n",
              " (('minute', 'back'), 1),\n",
              " (('back', 'eagerly'), 1),\n",
              " (('eagerly', 'waiting'), 1),\n",
              " (('waiting', 'login'), 1),\n",
              " (('detail', 'share'), 1),\n",
              " (('share', 'detail'), 1),\n",
              " (('detail', 'lovei'), 1),\n",
              " (('lovei', 'registered'), 1),\n",
              " (('registered', 'september'), 1),\n",
              " (('september', 'finished'), 1),\n",
              " (('finished', 'two'), 1),\n",
              " (('day', 'finish'), 1),\n",
              " (('finish', 'couse'), 1),\n",
              " (('couse', 'completely'), 1),\n",
              " (('completely', 'yet'), 1),\n",
              " (('yet', 'extend'), 1),\n",
              " (('time', 'one'), 1),\n",
              " (('week', 'needful'), 1),\n",
              " (('needful', 'hii'), 1),\n",
              " (('hii', 'seek'), 1),\n",
              " (('seek', 'side'), 1),\n",
              " (('side', 'actually'), 1),\n",
              " (('actually', 'registered'), 1),\n",
              " (('registered', 'mistake'), 1),\n",
              " (('mistake', 'instead'), 1),\n",
              " (('instead', 'registering'), 1),\n",
              " (('registering', 'possible'), 1),\n",
              " (('possible', 'cancel'), 1),\n",
              " (('cancel', 'registration'), 1),\n",
              " (('registration', 'refund'), 1),\n",
              " (('refund', 'chance'), 1),\n",
              " (('chance', 'guide'), 1),\n",
              " (('guide', 'opted'), 1),\n",
              " (('opted', 'hindi'), 1),\n",
              " (('language', 'follow'), 1),\n",
              " (('follow', 'properly'), 1),\n",
              " (('properly', 'like'), 1),\n",
              " (('like', 'change'), 1),\n",
              " (('change', 'language'), 1),\n",
              " (('english', 'ready'), 1),\n",
              " (('ready', 'pay'), 1),\n",
              " (('pay', 'excess'), 1),\n",
              " (('excess', 'amount'), 1),\n",
              " (('amount', 'english'), 1),\n",
              " (('english', 'let'), 1),\n",
              " (('let', 'proceed'), 1),\n",
              " (('proceed', 'case'), 1),\n",
              " (('case', 'change'), 1),\n",
              " (('change', 'program'), 1),\n",
              " (('program', 'language'), 1),\n",
              " (('english', 'login'), 1),\n",
              " (('login', 'unable'), 1),\n",
              " (('password', 'proceed'), 1),\n",
              " (('proceed', 'concern'), 1),\n",
              " (('concern', 'login'), 1),\n",
              " (('account', 'id'), 1),\n",
              " (('id', 'resolve'), 1),\n",
              " (('resolve', 'best'), 1),\n",
              " (('best', 'regardsas'), 1),\n",
              " (('regardsas', 'missed'), 1),\n",
              " (('missed', 'online'), 1),\n",
              " (('class', 'work'), 1),\n",
              " (('work', 'schedule'), 1),\n",
              " (('schedule', 'request'), 1),\n",
              " (('link', 'particular'), 1),\n",
              " (('particular', 'day'), 1),\n",
              " (('day', 'class'), 1),\n",
              " (('class', 'continue'), 1),\n",
              " (('continue', 'personal'), 1),\n",
              " (('personal', 'reason'), 1),\n",
              " (('reason', 'humbly'), 1),\n",
              " (('humbly', 'request'), 1),\n",
              " (('request', 'one'), 1),\n",
              " (('one', 'oppertunity'), 1),\n",
              " (('oppertunity', 'continue'), 1),\n",
              " (('continue', 'team'), 1),\n",
              " (('team', 'applied'), 1),\n",
              " (('applied', 'course'), 1),\n",
              " (('course', 'even'), 1),\n",
              " (('even', 'hour'), 1),\n",
              " (('hour', 'update'), 1),\n",
              " (('update', 'let'), 1),\n",
              " (('let', 'status'), 1),\n",
              " (('application', 'regardsrespected'), 1),\n",
              " (('regardsrespected', 'requested'), 1),\n",
              " (('name', 'completed'), 1),\n",
              " (('completed', 'module'), 1),\n",
              " (('module', 'name'), 1),\n",
              " (('name', 'correct'), 1),\n",
              " (('correct', 'highly'), 1),\n",
              " (('highly', 'requested'), 1),\n",
              " (('name', 'thankful'), 1),\n",
              " (('thankful', 'thanksdear'), 1),\n",
              " (('thanksdear', 'subscribed'), 1),\n",
              " (('subscribed', 'course'), 1),\n",
              " (('course', 'first'), 1),\n",
              " (('first', 'time'), 1),\n",
              " (('time', 'login'), 1),\n",
              " (('error', 'access'), 1),\n",
              " (('access', 'regardsi'), 1),\n",
              " (('regardsi', 'registered'), 1),\n",
              " (('registered', 'online'), 1),\n",
              " (('program', 'tutorial'), 1),\n",
              " (('tutorial', 'mail'), 1),\n",
              " (('mail', 'link'), 1),\n",
              " (('link', 'provided'), 1),\n",
              " (('provided', 'started'), 1),\n",
              " (('started', 'session'), 1),\n",
              " (('session', 'incomplete'), 1),\n",
              " (('incomplete', 'hereby'), 1),\n",
              " (('hereby', 'request'), 1),\n",
              " (('request', 'allowed'), 1),\n",
              " (('allowed', 'start'), 1),\n",
              " (('start', 'afresh'), 1),\n",
              " (('afresh', 'complete'), 1),\n",
              " (('complete', 'whole'), 1),\n",
              " (('whole', 'program'), 1),\n",
              " (('program', 'stretch'), 1),\n",
              " (('stretch', 'day'), 1),\n",
              " (('oblige', 'tried'), 1),\n",
              " (('tried', 'several'), 1),\n",
              " (('several', 'time'), 1),\n",
              " (('time', 'desktop'), 1),\n",
              " (('desktop', 'site'), 1),\n",
              " (('site', 'even'), 1),\n",
              " (('even', 'mobile'), 1),\n",
              " (('mobile', 'app'), 1),\n",
              " (('app', 'registration'), 1),\n",
              " (('registration', 'differ'), 1),\n",
              " (('language', 'time'), 1),\n",
              " (('time', 'showed'), 1),\n",
              " (('showed', 'error'), 1),\n",
              " (('error', 'program'), 1),\n",
              " (('program', 'available'), 1),\n",
              " (('available', 'india'), 1),\n",
              " (('india', 'send'), 1),\n",
              " (('send', 'payment'), 1),\n",
              " (('payment', 'link'), 1),\n",
              " (('link', 'differ'), 1),\n",
              " (('language', 'extend'), 1),\n",
              " (('validity', 'one'), 1),\n",
              " (('week', 'pregnent'), 1),\n",
              " (('pregnent', 'complete'), 1),\n",
              " (('time', 'made'), 1),\n",
              " (('payment', 'course'), 1),\n",
              " (('course', 'email'), 1),\n",
              " (('email', 'received'), 1),\n",
              " (('received', 'contain'), 1),\n",
              " (('contain', 'login'), 1),\n",
              " (('detail', 'soon'), 1),\n",
              " (('possible', 'unable'), 1),\n",
              " (('unable', 'locate'), 1),\n",
              " (('locate', 'mail'), 1),\n",
              " (('mail', 'may'), 1),\n",
              " (('may', 'deleted'), 1),\n",
              " (('deleted', 'mistake'), 1),\n",
              " (('mistake', 'issue'), 1),\n",
              " (('issue', 'website'), 1),\n",
              " (('website', 'login'), 1),\n",
              " (('error', 'unauthorised'), 1),\n",
              " (('unauthorised', 'token'), 1),\n",
              " (('expired', 'find'), 1),\n",
              " (('find', 'attached'), 1),\n",
              " (('attached', 'screenshot'), 1),\n",
              " (('screenshot', 'solve'), 1),\n",
              " (('solve', 'video'), 1),\n",
              " (('video', 'module'), 1),\n",
              " (('module', 'login'), 1),\n",
              " (('login', 'enable'), 1),\n",
              " (('enable', 'thanksyoudear'), 1),\n",
              " (('thanksyoudear', 'team'), 1),\n",
              " (('enrolled', 'unable'), 1),\n",
              " (('login', 'site'), 1),\n",
              " (('site', 'need'), 1),\n",
              " (('need', 'respect'), 1),\n",
              " (('respect', 'mentioned'), 1),\n",
              " (('mentioned', 'subject'), 1),\n",
              " (('subject', 'date'), 1),\n",
              " (('date', 'emergency'), 1),\n",
              " (('emergency', 'complete'), 1),\n",
              " (('complete', 'extension'), 1),\n",
              " (('extension', 'completion'), 1),\n",
              " (('completion', 'oblige'), 1),\n",
              " (('oblige', 'request'), 1),\n",
              " (('request', 'youi'), 1),\n",
              " (('youi', 'confirmation'), 1),\n",
              " (('confirmation', 'confirm'), 1),\n",
              " (('confirm', 'application'), 1),\n",
              " (('application', 'confirmed'), 1),\n",
              " (('confirmed', 'opted'), 1),\n",
              " (('opted', 'training'), 1),\n",
              " (('training', 'website'), 1),\n",
              " (('website', 'showing'), 1),\n",
              " (('showing', 'free'), 1),\n",
              " (('free', 'medical'), 1),\n",
              " (('professional', 'medical'), 1),\n",
              " (('professional', 'let'), 1),\n",
              " (('let', 'guide'), 1),\n",
              " (('guide', 'process'), 1),\n",
              " (('process', 'access'), 1),\n",
              " (('access', 'free'), 1),\n",
              " (('free', 'registered'), 1),\n",
              " (('registered', 'enrolled'), 1),\n",
              " (('enrolled', 'approve'), 1),\n",
              " (('approve', 'application'), 1),\n",
              " (('application', 'asap'), 1),\n",
              " (('asap', 'per'), 1),\n",
              " (('per', 'email'), 1),\n",
              " (('email', 'going'), 1),\n",
              " (('going', 'accessible'), 1),\n",
              " (('accessible', 'afteroctober'), 1),\n",
              " (('afteroctober', 'since'), 1),\n",
              " (('since', 'use'), 1),\n",
              " (('use', 'online'), 1),\n",
              " (('online', 'one'), 1),\n",
              " (('month', 'time'), 1),\n",
              " (('time', 'extend'), 1),\n",
              " (('time', 'period'), 1),\n",
              " (('period', 'allow'), 1),\n",
              " (('allow', 'take'), 1),\n",
              " (('take', 'regardsdid'), 1),\n",
              " (('regardsdid', 'receive'), 1),\n",
              " (('receive', 'login'), 1),\n",
              " (('login', 'id'), 1),\n",
              " (('log', 'program'), 1),\n",
              " (('program', 'let'), 1),\n",
              " (('let', 'team'), 1),\n",
              " (('team', 'network'), 1),\n",
              " (('network', 'error'), 1),\n",
              " (('error', 'problem'), 1),\n",
              " (('problem', 'playing'), 1),\n",
              " (('playing', 'first'), 1),\n",
              " (('first', 'video'), 1),\n",
              " (('video', 'min'), 1),\n",
              " (('min', 'tried'), 1),\n",
              " (('tried', 'time'), 1),\n",
              " (('time', 'everytime'), 1),\n",
              " (('everytime', 'stuck'), 1),\n",
              " (('stuck', 'place'), 1),\n",
              " (('place', 'e'), 1),\n",
              " (('e', 'g'), 1),\n",
              " (('g', 'min'), 1),\n",
              " (('min', 'plea'), 1),\n",
              " (('plea', 'resolving'), 1),\n",
              " (('resolving', 'language'), 1),\n",
              " (('language', 'conversion'), 1),\n",
              " (('conversion', 'done'), 1),\n",
              " (('done', 'notification'), 1),\n",
              " (('notification', 'something'), 1),\n",
              " (('something', 'done'), 1),\n",
              " (('done', 'confirm'), 1),\n",
              " (('confirm', 'tomorrow'), 1),\n",
              " (('tomorrow', 'buy'), 1),\n",
              " (('buy', 'donot'), 1),\n",
              " (('donot', 'login'), 1),\n",
              " (('login', 'set'), 1),\n",
              " (('set', 'new'), 1),\n",
              " (('password', 'indicated'), 1),\n",
              " (('indicated', 'enrolled'), 1),\n",
              " (('enrolled', 'course'), 1),\n",
              " (('course', 'couple'), 1),\n",
              " (('couple', 'day'), 1),\n",
              " (('day', 'ago'), 1),\n",
              " (('ago', 'log'), 1),\n",
              " (('start', 'advise'), 1),\n",
              " (('advise', 'regardsdear'), 1),\n",
              " (('regardsdear', 'unable'), 1),\n",
              " (('login', 'page'), 1),\n",
              " (('page', 'request'), 1),\n",
              " (('request', 'solve'), 1),\n",
              " (('solve', 'issue'), 1),\n",
              " (('issue', 'purchased'), 1),\n",
              " (('purchased', 'open'), 1),\n",
              " (('open', 'new'), 1),\n",
              " (('password', 'setup'), 1),\n",
              " (('setup', 'show'), 1),\n",
              " (('show', 'token'), 1),\n",
              " (('expired', 'expired'), 1),\n",
              " (('expired', 'use'), 1),\n",
              " (('use', 'itkindly'), 1),\n",
              " (('itkindly', 'extend'), 1),\n",
              " (('extend', 'program'), 1),\n",
              " (('program', 'view'), 1),\n",
              " (('view', 'day'), 1),\n",
              " (('oblige', 'put'), 1),\n",
              " (('put', 'login'), 1),\n",
              " (('password', 'following'), 1),\n",
              " (('following', 'screen'), 1),\n",
              " (('screen', 'showed'), 1),\n",
              " (('showed', 'access'), 1),\n",
              " (('english', 'submitted'), 1),\n",
              " (('fee', 'online'), 1),\n",
              " (('participation', 'access'), 1),\n",
              " (('access', 'program'), 1),\n",
              " (('program', 'set'), 1),\n",
              " (('password', 'go'), 1),\n",
              " (('go', 'loge'), 1),\n",
              " (('loge', 'page'), 1),\n",
              " (('page', 'put'), 1),\n",
              " (('put', 'id'), 1),\n",
              " (('id', 'passwor'), 1),\n",
              " (('passwor', 'access'), 1),\n",
              " (('english', 'procedure'), 1),\n",
              " (('procedure', 'login'), 1),\n",
              " (('login', 'click'), 1),\n",
              " (('click', 'login'), 1),\n",
              " (('login', 'link'), 1),\n",
              " (('link', 'page'), 1),\n",
              " (('page', 'set'), 1),\n",
              " (('password', 'moving'), 1),\n",
              " (('moving', 'next'), 1),\n",
              " (('next', 'step'), 1),\n",
              " (('step', 'issue'), 1),\n",
              " (('issue', 'regarding'), 1),\n",
              " (('regarding', 'login'), 1),\n",
              " (('login', 'pop'), 1),\n",
              " (('pop', 'message'), 1),\n",
              " (('message', 'show'), 1),\n",
              " (('show', 'account'), 1),\n",
              " (('account', 'expired'), 1),\n",
              " (('expired', 'regarding'), 1),\n",
              " (('regarding', 'well'), 1),\n",
              " (('well', 'book'), 1),\n",
              " (('book', 'reading'), 1),\n",
              " (('reading', 'recording'), 1),\n",
              " (('recording', 'kind'), 1),\n",
              " (('kind', 'related'), 1),\n",
              " (('related', 'greatly'), 1),\n",
              " (('greatly', 'appreciated'), 1),\n",
              " (('appreciated', 'net'), 1),\n",
              " (('net', 'work'), 1),\n",
              " (('work', 'covid'), 1),\n",
              " (('covid', 'warriordear'), 1),\n",
              " (('warriordear', 'attend'), 1),\n",
              " (('attend', 'first'), 1),\n",
              " (('first', 'class'), 1),\n",
              " (('class', 'missing'), 1),\n",
              " (('missing', 'last'), 1),\n",
              " (('last', 'manifestaion'), 1),\n",
              " (('manifestaion', 'tool'), 1),\n",
              " (('tool', 'need'), 1),\n",
              " (('need', 'st'), 1),\n",
              " (('st', 'class'), 1),\n",
              " (('class', 'last'), 1),\n",
              " (('last', 'tool'), 1),\n",
              " (('tool', 'regardsafter'), 1),\n",
              " (('regardsafter', 'payment'), 1),\n",
              " (('payment', 'done'), 1),\n",
              " (('done', 'email'), 1),\n",
              " (('email', 'set'), 1),\n",
              " (('password', 'unable'), 1),\n",
              " (('password', 'typing'), 1),\n",
              " (('typing', 'password'), 1),\n",
              " (('password', 'clicked'), 1),\n",
              " (('clicked', 'set'), 1),\n",
              " (('password', 'page'), 1),\n",
              " (('page', 'still'), 1),\n",
              " (('still', 'stuck'), 1),\n",
              " (('stuck', 'logging'), 1),\n",
              " (('logging', 'registered'), 1),\n",
              " (('registered', 'looking'), 1),\n",
              " (('forward', 'learning'), 1),\n",
              " (('learning', 'study'), 1),\n",
              " (('study', 'start'), 1),\n",
              " (('start', 'tomorrow'), 1),\n",
              " (('tomorrow', 'guideline'), 1),\n",
              " (('guideline', 'given'), 1),\n",
              " (('given', 'mail'), 1),\n",
              " (('mail', 'question'), 1),\n",
              " (('question', 'completing'), 1),\n",
              " (('completing', 'workshop'), 1),\n",
              " (('workshop', 'giving'), 1),\n",
              " (('giving', 'online'), 1),\n",
              " (('participation', 'certificate'), 1),\n",
              " (('certificate', 'looking'), 1),\n",
              " (('forward', 'kind'), 1),\n",
              " (('kind', 'reply'), 1),\n",
              " (('reply', 'understand'), 1),\n",
              " (('understand', 'request'), 1),\n",
              " (('request', 'allow'), 1),\n",
              " (('allow', 'second'), 1),\n",
              " (('second', 'video'), 1),\n",
              " (('video', 'againi'), 1),\n",
              " (('againi', 'submitted'), 1),\n",
              " (('submitted', 'screenshot'), 1),\n",
              " (('screenshot', 'receipt'), 1),\n",
              " (('receipt', 'still'), 1),\n",
              " (('received', 'material'), 1),\n",
              " (('material', 'take'), 1),\n",
              " (('take', 'active'), 1),\n",
              " (('active', 'step'), 1),\n",
              " (('step', 'regarding'), 1),\n",
              " (('regarding', 'registration'), 1),\n",
              " (('registration', 'number'), 1),\n",
              " (('number', 'givensir'), 1),\n",
              " (('givensir', 'purched'), 1),\n",
              " (('purched', 'class'), 1),\n",
              " (('class', 'unable'), 1),\n",
              " (('login', 'using'), 1),\n",
              " (('using', 'emil'), 1),\n",
              " (('emil', 'id'), 1),\n",
              " (('password', 'login'), 1),\n",
              " (('login', 'query'), 1),\n",
              " (('query', 'access'), 1),\n",
              " (('access', 'account'), 1),\n",
              " (('account', 'take'), 1),\n",
              " (('session', 'around'), 1),\n",
              " (('around', 'week'), 1),\n",
              " (('week', 'following'), 1),\n",
              " (('following', 'team'), 1),\n",
              " (('team', 'reset'), 1),\n",
              " (('reset', 'password'), 1),\n",
              " (('password', 'expired'), 1),\n",
              " (('request', 'increase'), 1),\n",
              " (('increase', 'duration'), 1),\n",
              " (('duration', 'still'), 1),\n",
              " (('still', 'need'), 1),\n",
              " (('need', 'take'), 1),\n",
              " (('session', 'team'), 1),\n",
              " (('team', 'good'), 1),\n",
              " (('good', 'morning'), 1),\n",
              " (('morning', 'still'), 1),\n",
              " (('received', 'welcome'), 1),\n",
              " (('welcome', 'kit'), 1),\n",
              " (('kit', 'per'), 1),\n",
              " (('per', 'registration'), 1),\n",
              " (('registration', 'adress'), 1),\n",
              " (('adress', 'issue'), 1),\n",
              " (('possible', 'stay'), 1),\n",
              " (('stay', 'safe'), 1),\n",
              " (('safe', 'warm'), 1),\n",
              " (('warm', 'regardssorry'), 1),\n",
              " (('regardssorry', 'causing'), 1),\n",
              " (('causing', 'inconvenience'), 1),\n",
              " (('inconvenience', 'received'), 1),\n",
              " (('received', 'username'), 1),\n",
              " (('password', 'youhad'), 1),\n",
              " (('youhad', 'registered'), 1),\n",
              " (('registered', 'program'), 1),\n",
              " (('program', 'one'), 1),\n",
              " (('month', 'back'), 1),\n",
              " (('back', 'fresh'), 1),\n",
              " (('fresh', 'registration'), 1),\n",
              " (('registration', 'mail'), 1),\n",
              " (('mail', 'id'), 1),\n",
              " (('id', 'problem'), 1),\n",
              " (('problem', 'login'), 1),\n",
              " (('login', 'messege'), 1),\n",
              " (('messege', 'password'), 1),\n",
              " (('password', 'invalid'), 1),\n",
              " (('invalid', 'tell'), 1),\n",
              " (('tell', 'registered'), 1),\n",
              " (('registered', 'login'), 1),\n",
              " (('error', 'invalid'), 1),\n",
              " (('invalid', 'username'), 1),\n",
              " (('issue', 'registered'), 1),\n",
              " (('registered', 'wish'), 1),\n",
              " (('wish', 'upgrade'), 1),\n",
              " (('upgrade', 'english'), 1),\n",
              " (('language', 'audio'), 1),\n",
              " (('audio', 'mind'), 1),\n",
              " (('mind', 'pay'), 1),\n",
              " (('pay', 'difference'), 1),\n",
              " (('difference', 'amount'), 1),\n",
              " (('amount', 'soon'), 1),\n",
              " (('possible', 'benefit'), 1),\n",
              " (('benefit', 'price'), 1),\n",
              " (('price', 'may'), 1),\n",
              " (('may', 'best'), 1),\n",
              " (('best', 'regardshello'), 1),\n",
              " (('regardshello', 'per'), 1),\n",
              " (('per', 'telephonic'), 1),\n",
              " (('telephonic', 'call'), 1),\n",
              " (('call', 'forwarding'), 1),\n",
              " (('forwarding', 'email'), 1),\n",
              " (('email', 'share'), 1),\n",
              " (('share', 'next'), 1),\n",
              " (('next', 'date'), 1),\n",
              " (('date', 'enroll'), 1),\n",
              " (('enroll', 'completed'), 1),\n",
              " (('completed', 'lecture'), 1),\n",
              " (('lecture', 'time'), 1),\n",
              " (('time', 'final'), 1),\n",
              " (('final', 'feedback'), 1),\n",
              " (('feedback', 'submission'), 1),\n",
              " (('submission', 'faced'), 1),\n",
              " (('faced', 'error'), 1),\n",
              " (('error', 'named'), 1),\n",
              " (('named', 'error'), 1),\n",
              " (('error', 'cmpy'), 1),\n",
              " (('cmpy', 'repeated'), 1),\n",
              " (('repeated', 'time'), 1),\n",
              " (('time', 'logged'), 1),\n",
              " (('logged', 'tried'), 1),\n",
              " (('tried', 'submit'), 1),\n",
              " (('submit', 'attaching'), 1),\n",
              " (('attaching', 'screenshot'), 1),\n",
              " (('screenshot', 'reference'), 1),\n",
              " (('reference', 'process'), 1),\n",
              " (('process', 'support'), 1),\n",
              " (('team', 'current'), 1),\n",
              " (('current', 'location'), 1),\n",
              " (('location', 'network'), 1),\n",
              " (('network', 'problem'), 1),\n",
              " (('problem', 'last'), 1),\n",
              " (('last', 'two'), 1),\n",
              " (('day', 'trying'), 1),\n",
              " (('trying', 'connect'), 1),\n",
              " (('connect', 'video'), 1),\n",
              " (('video', 'buffering'), 1),\n",
              " (('buffering', 'many'), 1),\n",
              " (('time', 'creating'), 1),\n",
              " (('creating', 'problem'), 1),\n",
              " (('problem', 'unable'), 1),\n",
              " (('unable', 'concentrate'), 1),\n",
              " (('concentrate', 'received'), 1),\n",
              " (('received', 'message'), 1),\n",
              " (('message', 'mr'), 1),\n",
              " (('mr', 'name'), 1),\n",
              " (('name', 'complete'), 1),\n",
              " (('complete', 'network'), 1),\n",
              " (('network', 'issue'), 1),\n",
              " (('unable', 'request'), 1),\n",
              " (('request', 'extension'), 1),\n",
              " (('extension', 'one'), 1),\n",
              " (('week', 'unable'), 1),\n",
              " (('unable', 'log'), 1),\n",
              " (('log', 'password'), 1),\n",
              " (('received', 'password'), 1),\n",
              " (('password', 'reset'), 1),\n",
              " (('link', 'mail'), 1),\n",
              " (('mail', 'despite'), 1),\n",
              " (('despite', 'tryingn'), 1),\n",
              " (('tryingn', 'login'), 1),\n",
              " (('login', 'twicehi'), 1),\n",
              " (('twicehi', 'planned'), 1),\n",
              " (('planned', 'complete'), 1),\n",
              " (('complete', 'online'), 1),\n",
              " (('online', 'session'), 1),\n",
              " (('session', 'managed'), 1),\n",
              " (('managed', 'low'), 1),\n",
              " (('low', 'connectivity'), 1),\n",
              " (('connectivity', 'area'), 1),\n",
              " (('area', 'sit'), 1),\n",
              " (('sit', 'double'), 1),\n",
              " (('double', 'duration'), 1),\n",
              " (('duration', 'onwards'), 1),\n",
              " (('onwards', 'little'), 1),\n",
              " (('little', 'bit'), 1),\n",
              " (('bit', 'time'), 1),\n",
              " (('time', 'crunch'), 1),\n",
              " (('crunch', 'way'), 1),\n",
              " (('way', 'support'), 1),\n",
              " (('team', 'facing'), 1),\n",
              " (('facing', 'error'), 1),\n",
              " (('error', 'trying'), 1),\n",
              " (('trying', 'open'), 1),\n",
              " (('open', 'last'), 1),\n",
              " (('last', 'way'), 1),\n",
              " (('way', 'fix'), 1),\n",
              " (('fix', 'message'), 1),\n",
              " (('message', 'try'), 1),\n",
              " (('try', 'open'), 1),\n",
              " (('open', 'video'), 1),\n",
              " (('video', 'file'), 1),\n",
              " (('file', 'cannot'), 1),\n",
              " (('cannot', 'played'), 1),\n",
              " (('played', 'support'), 1),\n",
              " (('support', 'screenshot'), 1),\n",
              " (('screenshot', 'page'), 1),\n",
              " (('page', 'course'), 1),\n",
              " (('course', 'list'), 1),\n",
              " (('list', 'video'), 1),\n",
              " (('one', 'link'), 1),\n",
              " (('link', 'sent'), 1),\n",
              " (('sent', 'earlier'), 1),\n",
              " (('earlier', 'expired'), 1),\n",
              " (('expired', 'soon'), 1),\n",
              " (('possible', 'regardshello'), 1),\n",
              " (('regardshello', 'sorry'), 1),\n",
              " (('sorry', 'apologize'), 1),\n",
              " (('apologize', 'technology'), 1),\n",
              " (('technology', 'savvy'), 1),\n",
              " (('savvy', 'somehow'), 1),\n",
              " (('somehow', 'missed'), 1),\n",
              " (('missed', 'part'), 1),\n",
              " (('part', 'afraid'), 1),\n",
              " (('afraid', 'online'), 1),\n",
              " (('online', 'streaming'), 1),\n",
              " (('streaming', 'tried'), 1),\n",
              " (('tried', 'level'), 1),\n",
              " (('level', 'best'), 1),\n",
              " (('best', 'fix'), 1),\n",
              " (('fix', 'hear'), 1),\n",
              " (('hear', 'audio'), 1),\n",
              " (('audio', 'kept'), 1),\n",
              " (('kept', 'login'), 1),\n",
              " (('login', 'consider'), 1),\n",
              " (('consider', 'special'), 1),\n",
              " (('special', 'case'), 1),\n",
              " (('case', 'enable'), 1),\n",
              " (('enable', 'account'), 1),\n",
              " (('account', 'keep'), 1),\n",
              " (('keep', 'mind'), 1),\n",
              " (('mind', 'instruction'), 1),\n",
              " (('instruction', 'repeat'), 1),\n",
              " (('repeat', 'issue'), 1),\n",
              " (('issue', 'remaining'), 1),\n",
              " (('remaining', 'session'), 1),\n",
              " (('session', 'need'), 1),\n",
              " (('need', 'resetting'), 1),\n",
              " (('resetting', 'advance'), 1),\n",
              " (('advance', 'consider'), 1),\n",
              " (('consider', 'request'), 1),\n",
              " (('request', 'time'), 1),\n",
              " (('time', 'team'), 1),\n",
              " (('team', 'work'), 1),\n",
              " (('work', 'commitment'), 1),\n",
              " (('commitment', 'extensive'), 1),\n",
              " (('extensive', 'travel'), 1),\n",
              " (('travel', 'last'), 1),\n",
              " (('last', 'month'), 1),\n",
              " (('month', 'meanwhile'), 1),\n",
              " (('meanwhile', 'link'), 1),\n",
              " (('link', 'prerequisite'), 1),\n",
              " (('prerequisite', 'course'), 1),\n",
              " (('course', 'expired'), 1),\n",
              " (('send', 'new'), 1),\n",
              " (('new', 'link'), 1),\n",
              " (('link', 'course'), 1),\n",
              " (('course', 'finished'), 1),\n",
              " (('finished', 'asap'), 1),\n",
              " (('asap', 'best'), 1),\n",
              " (('best', 'hellooo'), 1),\n",
              " (('hellooo', 'kept'), 1),\n",
              " (('kept', 'encountering'), 1),\n",
              " (('encountering', 'error'), 1),\n",
              " (('error', 'watching'), 1),\n",
              " (('watching', 'video'), 1),\n",
              " (('video', 'changed'), 1),\n",
              " (('changed', 'browser'), 1),\n",
              " (('browser', 'tried'), 1),\n",
              " (('tried', 'still'), 1),\n",
              " (('still', 'error'), 1),\n",
              " (('error', 'find'), 1),\n",
              " (('find', 'attachmentsir'), 1),\n",
              " (('attachmentsir', 'wasnt'), 1),\n",
              " (('wasnt', 'complete'), 1),\n",
              " (('complete', 'expired'), 1),\n",
              " (('expired', 'failed'), 1),\n",
              " (('failed', 'complete'), 1),\n",
              " (('complete', 'bord'), 1),\n",
              " (('bord', 'exam'), 1),\n",
              " (('exam', 'renew'), 1),\n",
              " (('renew', 'account'), 1),\n",
              " (('account', 'shall'), 1),\n",
              " (('shall', 'highly'), 1),\n",
              " (('highly', 'obligedi'), 1),\n",
              " (('obligedi', 'completed'), 1),\n",
              " (('completed', 'session'), 1),\n",
              " (('session', 'link'), 1),\n",
              " (('link', 'showing'), 1),\n",
              " (('showing', 'mail'), 1),\n",
              " (('mail', 'send'), 1),\n",
              " (('link', 'complete'), 1),\n",
              " (('complete', 'chose'), 1),\n",
              " (('chose', 'register'), 1),\n",
              " ...]"
            ]
          },
          "metadata": {
            "tags": []
          },
          "execution_count": 66
        }
      ]
    },
    {
      "cell_type": "code",
      "metadata": {
        "colab": {
          "base_uri": "https://localhost:8080/"
        },
        "id": "dZpz2_aE5u3G",
        "outputId": "214c02bd-4b25-4462-b013-e032a9d329f2"
      },
      "source": [
        "counts = dict()\r\n",
        "for word in list_of_words:\r\n",
        "  counts[word] = counts.get(word, 0) + 1\r\n",
        "print(counts)"
      ],
      "execution_count": null,
      "outputs": [
        {
          "output_type": "stream",
          "text": [
            "{'applied': 3, 'professional': 4, 'submitted': 5, 'document': 2, 'review': 3, 'application': 6, 'login': 32, 'detail': 12, 'youhi': 2, 'unable': 16, 'change': 5, 'password': 25, 'error': 17, 'message': 7, 'screenshot': 6, 'check': 4, 'team': 13, 'enrolled': 6, 'finish': 3, 'october': 1, 'emergency': 2, 'required': 1, 'attention': 1, 'still': 7, 'complete': 15, 'session': 11, 'found': 2, 'immensely': 1, 'helpful': 2, 'therefore': 2, 'requesting': 1, 'possible': 9, 'extend': 8, 'duration': 3, 'week': 14, 'best': 6, 'thankshi': 2, 'program': 19, 'deadline': 3, 'hey': 1, 'set': 9, 'one': 14, 'time': 24, 'facing': 3, 'request': 15, 'assistance': 1, 'hii': 3, 'suddenly': 3, 'playing': 2, 'showing': 3, 'screen': 2, 'allowing': 1, 'go': 2, 'tab': 1, 'open': 5, 'phone': 4, 'attached': 5, 'issue': 12, 'received': 11, 'separate': 1, 'mail': 8, 'comprises': 1, 'access': 9, 'hereby': 2, 'planning': 1, 'register': 3, 'programme': 1, 'need': 7, 'clarification': 1, 'point': 1, 'completion': 3, 'online': 17, 'day': 15, 'whether': 1, 'available': 5, 'presently': 1, 'working': 2, 'present': 1, 'covid': 3, 'pandemic': 1, 'possibility': 1, 'offline': 1, 'class': 13, 'provide': 2, 'insight': 1, 'total': 1, 'cost': 1, 'regardsi': 3, 'informed': 1, 'contact': 2, 'email': 12, 'inorder': 1, 'account': 9, 'previously': 1, 'college': 2, 'work': 5, 'demanding': 1, 'period': 2, 'support': 4, 'registered': 14, 'sept': 1, 'tried': 9, 'say': 3, 'token': 3, 'expired': 10, 'mobile': 3, 'device': 1, 'using': 2, 'either': 1, 'passcode': 1, 'sso': 1, 'assist': 2, 'honorable': 1, 'student': 2, 'currently': 2, 'pursuing': 2, 'bachelor': 1, 'engineering': 2, 'good': 2, 'civil': 1, 'fundamental': 1, 'discover': 1, 'explore': 1, 'talked': 1, 'parent': 1, 'said': 2, 'utter': 1, 'bullshit': 1, 'use': 5, 'believer': 1, 'ask': 2, 'buy': 2, 'subscription': 1, 'yet': 2, 'earning': 1, 'seen': 1, 'people': 1, 'believing': 1, 'opportunity': 1, 'experience': 1, 'magical': 1, 'journey': 1, 'eager': 1, 'hear': 3, 'watching': 3, 'chapter': 3, 'internet': 1, 'problem': 6, 'clicked': 2, 'back': 4, 'button': 2, 'since': 3, 'many': 2, 'displayed': 1, 'fix': 3, 'soon': 5, 'free': 5, 'memeber': 1, 'ship': 1, 'pharmacicts': 1, 'reply': 4, 'confirmation': 3, 'u': 1, 'r': 1, 'side': 2, 'find': 4, 'fee': 4, 'done': 5, 'registration': 8, 'regarding': 7, 'hindi': 3, 'language': 10, 'receipt': 3, 'deposited': 1, 'waiting': 2, 'like': 3, 'schedule': 3, 'send': 8, 'information': 4, 'regardsdear': 2, 'friend': 2, 'going': 3, 'credential': 1, 'within': 1, 'following': 3, 'status': 2, 'submit': 2, 'new': 4, 'well': 2, 'completed': 10, 'four': 2, 'trying': 3, 'give': 1, 'log': 5, 'start': 4, 'trail': 1, 'paid': 3, 'needful': 3, 'expire': 1, 'two': 3, 'segment': 1, 'extended': 1, 'another': 1, 'thankyou': 1, 'greeting': 1, 'couple': 2, 'minute': 1, 'eagerly': 1, 'share': 2, 'lovei': 1, 'september': 1, 'finished': 2, 'couse': 1, 'completely': 2, 'seek': 1, 'actually': 1, 'mistake': 2, 'instead': 1, 'registering': 1, 'cancel': 1, 'refund': 4, 'chance': 1, 'guide': 5, 'opted': 2, 'follow': 1, 'properly': 1, 'english': 7, 'ready': 1, 'pay': 2, 'excess': 1, 'amount': 2, 'let': 6, 'proceed': 2, 'case': 3, 'concern': 2, 'id': 8, 'resolve': 1, 'regardsas': 1, 'missed': 2, 'link': 14, 'particular': 1, 'continue': 3, 'personal': 2, 'reason': 2, 'humbly': 1, 'oppertunity': 1, 'course': 10, 'even': 2, 'hour': 1, 'update': 1, 'regardsrespected': 1, 'requested': 2, 'name': 5, 'module': 2, 'correct': 1, 'highly': 2, 'thankful': 2, 'thanksdear': 1, 'subscribed': 1, 'first': 3, 'tutorial': 1, 'provided': 1, 'started': 2, 'incomplete': 1, 'allowed': 1, 'afresh': 1, 'whole': 1, 'stretch': 1, 'oblige': 3, 'several': 1, 'desktop': 1, 'site': 2, 'app': 2, 'differ': 2, 'showed': 2, 'india': 1, 'payment': 5, 'validity': 2, 'pregnent': 1, 'made': 3, 'contain': 1, 'locate': 1, 'may': 2, 'deleted': 1, 'website': 2, 'unauthorised': 1, 'solve': 2, 'video': 17, 'enable': 3, 'thanksyoudear': 1, 'respect': 1, 'mentioned': 1, 'subject': 1, 'date': 3, 'extension': 2, 'youi': 1, 'confirm': 4, 'confirmed': 1, 'training': 1, 'medical': 2, 'process': 2, 'approve': 1, 'asap': 2, 'per': 3, 'accessible': 1, 'afteroctober': 1, 'month': 4, 'allow': 2, 'take': 5, 'regardsdid': 1, 'receive': 2, 'network': 4, 'min': 2, 'everytime': 1, 'stuck': 2, 'place': 1, 'e': 3, 'g': 1, 'plea': 1, 'resolving': 1, 'conversion': 1, 'notification': 2, 'something': 1, 'tomorrow': 2, 'donot': 1, 'indicated': 1, 'ago': 1, 'advise': 2, 'page': 8, 'purchased': 2, 'setup': 1, 'show': 2, 'itkindly': 1, 'view': 1, 'put': 2, 'line': 2, 'participation': 3, 'loge': 1, 'passwor': 1, 'procedure': 1, 'click': 1, 'moving': 2, 'next': 4, 'step': 2, 'pop': 1, 'book': 1, 'reading': 1, 'recording': 1, 'kind': 3, 'related': 2, 'greatly': 1, 'appreciated': 1, 'net': 2, 'warriordear': 1, 'attend': 2, 'missing': 1, 'last': 6, 'manifestaion': 1, 'tool': 2, 'st': 2, 'regardsafter': 1, 'typing': 1, 'logging': 1, 'looking': 4, 'forward': 2, 'learning': 1, 'study': 2, 'guideline': 1, 'given': 2, 'question': 1, 'completing': 1, 'workshop': 1, 'giving': 1, 'certificate': 1, 'understand': 2, 'second': 2, 'againi': 1, 'material': 1, 'active': 2, 'number': 4, 'givensir': 1, 'purched': 1, 'emil': 1, 'query': 1, 'around': 1, 'reset': 5, 'increase': 1, 'morning': 1, 'welcome': 1, 'kit': 1, 'adress': 1, 'stay': 1, 'safe': 1, 'warm': 1, 'regardssorry': 1, 'causing': 1, 'inconvenience': 2, 'username': 2, 'youhad': 1, 'fresh': 1, 'messege': 1, 'invalid': 2, 'tell': 1, 'wish': 1, 'upgrade': 1, 'audio': 2, 'mind': 2, 'difference': 1, 'benefit': 1, 'price': 1, 'regardshello': 3, 'telephonic': 1, 'call': 2, 'forwarding': 1, 'enroll': 1, 'lecture': 1, 'final': 1, 'feedback': 1, 'submission': 1, 'faced': 1, 'named': 1, 'cmpy': 1, 'repeated': 1, 'logged': 2, 'attaching': 1, 'reference': 1, 'current': 1, 'location': 1, 'connect': 1, 'buffering': 1, 'creating': 1, 'concentrate': 1, 'mr': 2, 'despite': 1, 'tryingn': 1, 'twicehi': 1, 'planned': 1, 'managed': 1, 'low': 1, 'connectivity': 1, 'area': 1, 'sit': 1, 'double': 1, 'onwards': 1, 'little': 1, 'bit': 1, 'crunch': 1, 'way': 3, 'try': 1, 'file': 1, 'cannot': 2, 'played': 1, 'list': 1, 'sent': 1, 'earlier': 2, 'sorry': 2, 'apologize': 1, 'technology': 1, 'savvy': 1, 'somehow': 1, 'part': 1, 'afraid': 1, 'streaming': 1, 'level': 1, 'kept': 2, 'consider': 2, 'special': 1, 'keep': 1, 'instruction': 1, 'repeat': 1, 'remaining': 1, 'resetting': 1, 'advance': 2, 'commitment': 1, 'extensive': 1, 'travel': 1, 'meanwhile': 1, 'prerequisite': 1, 'hellooo': 1, 'encountering': 1, 'changed': 1, 'browser': 1, 'attachmentsir': 1, 'wasnt': 1, 'failed': 1, 'bord': 1, 'exam': 2, 'renew': 1, 'shall': 2, 'obligedi': 1, 'chose': 1, 'filled': 1, 'unfortunately': 1, 'pressed': 1, 'lost': 1, 'subscribtion': 1, 'matter': 1, 'successfully': 1, 'attach': 1, 'successfull': 1, 'copy': 1, 'yourespected': 1, 'understanding': 2, 'pray': 1, 'obliged': 2, 'providing': 1, 'picked': 1, 'response': 1, 'detailed': 1, 'mam': 1, 'graduation': 1, 'afford': 1, 'family': 1, 'money': 1, 'focus': 1, 'much': 1, 'jus': 1, 'inform': 2, 'finishing': 1, 'husband': 1, 'together': 1, 'lesson': 1, 'shown': 1, 'report': 1, 'someone': 1, 'understood': 1, 'right': 1, 'cancellation': 1, 'didnt': 2, 'task': 1, 'assessment': 1, 'wrote': 1, 'cant': 1, 'rewind': 1, 'enrollment': 1, 'invitation': 1, 'later': 1, 'watch': 9, 'pleasure': 1, 'suggest': 1, 'willing': 1, 'admin': 1, 'bad': 1, 'interupted': 1, 'directly': 1, 'user': 1, 'content': 1, 'left': 2, 'confused': 1, 'vacancy': 2, 'scheduled': 2, 'held': 3, 'participate': 1, 'youdear': 1, 'attending': 1, 'march': 2, 'end': 2, 'busy': 1, 'activate': 1, 'watched': 3, 'piece': 1, 'sitting': 1, 'fully': 1, 'disturbance': 1, 'hostel': 1, 'asked': 1, 'previous': 1, 'transfer': 1, 'seat': 1, 'wrong': 2, 'ki': 1, 'different': 1, 'procedurehello': 1, 'extending': 3, 'traveling': 1, 'father': 1, 'serious': 1, 'health': 1, 'follows': 1, 'three': 2, 'hectic': 1, 'yes': 1, 'usually': 1, 'weekend': 4, 'make': 1, 'appreciate': 1, 'plan': 1, 'came': 1, 'early': 1, 'year': 1, 'festivity': 1, 'home': 1, 'eg': 1, 'makar': 1, 'sankranti': 1, 'disable': 1, 'unlike': 1, 'youhello': 1, 'mention': 1, 'separately': 1, 'genuine': 1, 'engagement': 1, 'front': 1, 'house': 1, 'november': 1, 'february': 1, 'rd': 1, 'anticipation': 1, 'painful': 1, 'important': 1}\n"
          ],
          "name": "stdout"
        }
      ]
    },
    {
      "cell_type": "code",
      "metadata": {
        "colab": {
          "base_uri": "https://localhost:8080/"
        },
        "id": "jLqiFMoL-Fhy",
        "outputId": "9c15f492-684a-4366-bd8e-60533a2df52d"
      },
      "source": [
        "sorted_counts = sorted(counts.items(), key = lambda kv:(kv[1], kv[0]), reverse=True)\r\n",
        "print(sorted_counts)"
      ],
      "execution_count": null,
      "outputs": [
        {
          "output_type": "stream",
          "text": [
            "[('login', 32), ('password', 25), ('time', 24), ('program', 19), ('video', 17), ('online', 17), ('error', 17), ('unable', 16), ('request', 15), ('day', 15), ('complete', 15), ('week', 14), ('registered', 14), ('one', 14), ('link', 14), ('team', 13), ('class', 13), ('issue', 12), ('email', 12), ('detail', 12), ('session', 11), ('received', 11), ('language', 10), ('expired', 10), ('course', 10), ('completed', 10), ('watch', 9), ('tried', 9), ('set', 9), ('possible', 9), ('account', 9), ('access', 9), ('send', 8), ('registration', 8), ('page', 8), ('mail', 8), ('id', 8), ('extend', 8), ('still', 7), ('regarding', 7), ('need', 7), ('message', 7), ('english', 7), ('screenshot', 6), ('problem', 6), ('let', 6), ('last', 6), ('enrolled', 6), ('best', 6), ('application', 6), ('work', 5), ('use', 5), ('take', 5), ('submitted', 5), ('soon', 5), ('reset', 5), ('payment', 5), ('open', 5), ('name', 5), ('log', 5), ('guide', 5), ('free', 5), ('done', 5), ('change', 5), ('available', 5), ('attached', 5), ('weekend', 4), ('support', 4), ('start', 4), ('reply', 4), ('refund', 4), ('professional', 4), ('phone', 4), ('number', 4), ('next', 4), ('new', 4), ('network', 4), ('month', 4), ('looking', 4), ('information', 4), ('find', 4), ('fee', 4), ('confirm', 4), ('check', 4), ('back', 4), ('way', 3), ('watching', 3), ('watched', 3), ('two', 3), ('trying', 3), ('token', 3), ('suddenly', 3), ('since', 3), ('showing', 3), ('schedule', 3), ('say', 3), ('review', 3), ('register', 3), ('regardsi', 3), ('regardshello', 3), ('receipt', 3), ('per', 3), ('participation', 3), ('paid', 3), ('oblige', 3), ('needful', 3), ('mobile', 3), ('made', 3), ('like', 3), ('kind', 3), ('hindi', 3), ('hii', 3), ('held', 3), ('hear', 3), ('going', 3), ('following', 3), ('fix', 3), ('first', 3), ('finish', 3), ('facing', 3), ('extending', 3), ('enable', 3), ('e', 3), ('duration', 3), ('deadline', 3), ('date', 3), ('covid', 3), ('continue', 3), ('confirmation', 3), ('completion', 3), ('chapter', 3), ('case', 3), ('applied', 3), ('youhi', 2), ('yet', 2), ('wrong', 2), ('working', 2), ('well', 2), ('website', 2), ('waiting', 2), ('validity', 2), ('vacancy', 2), ('using', 2), ('username', 2), ('understanding', 2), ('understand', 2), ('tool', 2), ('tomorrow', 2), ('three', 2), ('therefore', 2), ('thankshi', 2), ('thankful', 2), ('submit', 2), ('study', 2), ('student', 2), ('stuck', 2), ('step', 2), ('status', 2), ('started', 2), ('st', 2), ('sorry', 2), ('solve', 2), ('site', 2), ('side', 2), ('showed', 2), ('show', 2), ('share', 2), ('shall', 2), ('second', 2), ('screen', 2), ('scheduled', 2), ('said', 2), ('requested', 2), ('related', 2), ('regardsdear', 2), ('receive', 2), ('reason', 2), ('put', 2), ('pursuing', 2), ('purchased', 2), ('provide', 2), ('process', 2), ('proceed', 2), ('playing', 2), ('personal', 2), ('period', 2), ('pay', 2), ('opted', 2), ('obliged', 2), ('notification', 2), ('net', 2), ('mr', 2), ('moving', 2), ('module', 2), ('mistake', 2), ('missed', 2), ('mind', 2), ('min', 2), ('medical', 2), ('may', 2), ('march', 2), ('many', 2), ('logged', 2), ('line', 2), ('left', 2), ('kept', 2), ('invalid', 2), ('inform', 2), ('inconvenience', 2), ('highly', 2), ('hereby', 2), ('helpful', 2), ('good', 2), ('go', 2), ('given', 2), ('friend', 2), ('four', 2), ('found', 2), ('forward', 2), ('finished', 2), ('extension', 2), ('exam', 2), ('even', 2), ('engineering', 2), ('end', 2), ('emergency', 2), ('earlier', 2), ('document', 2), ('differ', 2), ('didnt', 2), ('currently', 2), ('couple', 2), ('contact', 2), ('consider', 2), ('concern', 2), ('completely', 2), ('college', 2), ('clicked', 2), ('cannot', 2), ('call', 2), ('buy', 2), ('button', 2), ('audio', 2), ('attend', 2), ('assist', 2), ('ask', 2), ('asap', 2), ('app', 2), ('amount', 2), ('allow', 2), ('advise', 2), ('advance', 2), ('active', 2), ('yourespected', 1), ('youi', 1), ('youhello', 1), ('youhad', 1), ('youdear', 1), ('yes', 1), ('year', 1), ('wrote', 1), ('workshop', 1), ('within', 1), ('wish', 1), ('willing', 1), ('whole', 1), ('whether', 1), ('welcome', 1), ('wasnt', 1), ('warriordear', 1), ('warm', 1), ('view', 1), ('utter', 1), ('usually', 1), ('user', 1), ('upgrade', 1), ('update', 1), ('unlike', 1), ('unfortunately', 1), ('understood', 1), ('unauthorised', 1), ('u', 1), ('typing', 1), ('twicehi', 1), ('tutorial', 1), ('tryingn', 1), ('try', 1), ('traveling', 1), ('travel', 1), ('transfer', 1), ('training', 1), ('trail', 1), ('total', 1), ('together', 1), ('thankyou', 1), ('thanksyoudear', 1), ('thanksdear', 1), ('tell', 1), ('telephonic', 1), ('technology', 1), ('task', 1), ('talked', 1), ('tab', 1), ('suggest', 1), ('successfully', 1), ('successfull', 1), ('subscription', 1), ('subscribtion', 1), ('subscribed', 1), ('submission', 1), ('subject', 1), ('stretch', 1), ('streaming', 1), ('stay', 1), ('sso', 1), ('special', 1), ('something', 1), ('someone', 1), ('somehow', 1), ('sitting', 1), ('sit', 1), ('shown', 1), ('ship', 1), ('several', 1), ('setup', 1), ('serious', 1), ('september', 1), ('sept', 1), ('separately', 1), ('separate', 1), ('sent', 1), ('segment', 1), ('seen', 1), ('seek', 1), ('seat', 1), ('savvy', 1), ('sankranti', 1), ('safe', 1), ('right', 1), ('rewind', 1), ('response', 1), ('respect', 1), ('resolving', 1), ('resolve', 1), ('resetting', 1), ('required', 1), ('requesting', 1), ('report', 1), ('repeated', 1), ('repeat', 1), ('renew', 1), ('remaining', 1), ('registering', 1), ('regardssorry', 1), ('regardsrespected', 1), ('regardsdid', 1), ('regardsas', 1), ('regardsafter', 1), ('reference', 1), ('recording', 1), ('ready', 1), ('reading', 1), ('rd', 1), ('r', 1), ('question', 1), ('query', 1), ('purched', 1), ('providing', 1), ('provided', 1), ('properly', 1), ('programme', 1), ('procedurehello', 1), ('procedure', 1), ('price', 1), ('previously', 1), ('previous', 1), ('pressed', 1), ('presently', 1), ('present', 1), ('prerequisite', 1), ('pregnent', 1), ('pray', 1), ('possibility', 1), ('pop', 1), ('point', 1), ('pleasure', 1), ('plea', 1), ('played', 1), ('planning', 1), ('planned', 1), ('plan', 1), ('place', 1), ('piece', 1), ('picked', 1), ('pharmacicts', 1), ('people', 1), ('passwor', 1), ('passcode', 1), ('particular', 1), ('participate', 1), ('part', 1), ('parent', 1), ('pandemic', 1), ('painful', 1), ('opportunity', 1), ('oppertunity', 1), ('onwards', 1), ('offline', 1), ('october', 1), ('obligedi', 1), ('november', 1), ('named', 1), ('much', 1), ('morning', 1), ('money', 1), ('missing', 1), ('minute', 1), ('messege', 1), ('mentioned', 1), ('mention', 1), ('memeber', 1), ('meanwhile', 1), ('matter', 1), ('material', 1), ('manifestaion', 1), ('managed', 1), ('mam', 1), ('make', 1), ('makar', 1), ('magical', 1), ('low', 1), ('lovei', 1), ('lost', 1), ('logging', 1), ('loge', 1), ('location', 1), ('locate', 1), ('little', 1), ('list', 1), ('level', 1), ('lesson', 1), ('lecture', 1), ('learning', 1), ('later', 1), ('kit', 1), ('ki', 1), ('keep', 1), ('jus', 1), ('journey', 1), ('itkindly', 1), ('invitation', 1), ('interupted', 1), ('internet', 1), ('instruction', 1), ('instead', 1), ('insight', 1), ('inorder', 1), ('informed', 1), ('indicated', 1), ('india', 1), ('increase', 1), ('incomplete', 1), ('important', 1), ('immensely', 1), ('husband', 1), ('humbly', 1), ('house', 1), ('hour', 1), ('hostel', 1), ('honorable', 1), ('home', 1), ('hey', 1), ('hellooo', 1), ('hectic', 1), ('health', 1), ('guideline', 1), ('greeting', 1), ('greatly', 1), ('graduation', 1), ('giving', 1), ('givensir', 1), ('give', 1), ('genuine', 1), ('g', 1), ('fundamental', 1), ('fully', 1), ('front', 1), ('fresh', 1), ('forwarding', 1), ('follows', 1), ('follow', 1), ('focus', 1), ('finishing', 1), ('final', 1), ('filled', 1), ('file', 1), ('festivity', 1), ('feedback', 1), ('february', 1), ('father', 1), ('family', 1), ('failed', 1), ('faced', 1), ('extensive', 1), ('extended', 1), ('explore', 1), ('expire', 1), ('experience', 1), ('excess', 1), ('everytime', 1), ('enrollment', 1), ('enroll', 1), ('engagement', 1), ('encountering', 1), ('emil', 1), ('either', 1), ('eg', 1), ('earning', 1), ('early', 1), ('eagerly', 1), ('eager', 1), ('double', 1), ('donot', 1), ('disturbance', 1), ('displayed', 1), ('discover', 1), ('disable', 1), ('directly', 1), ('different', 1), ('difference', 1), ('device', 1), ('detailed', 1), ('despite', 1), ('desktop', 1), ('deposited', 1), ('demanding', 1), ('deleted', 1), ('current', 1), ('crunch', 1), ('credential', 1), ('creating', 1), ('couse', 1), ('cost', 1), ('correct', 1), ('copy', 1), ('conversion', 1), ('content', 1), ('contain', 1), ('connectivity', 1), ('connect', 1), ('confused', 1), ('confirmed', 1), ('concentrate', 1), ('comprises', 1), ('completing', 1), ('commitment', 1), ('cmpy', 1), ('click', 1), ('clarification', 1), ('civil', 1), ('chose', 1), ('changed', 1), ('chance', 1), ('certificate', 1), ('causing', 1), ('cant', 1), ('cancellation', 1), ('cancel', 1), ('came', 1), ('busy', 1), ('bullshit', 1), ('buffering', 1), ('browser', 1), ('bord', 1), ('book', 1), ('bit', 1), ('benefit', 1), ('believing', 1), ('believer', 1), ('bad', 1), ('bachelor', 1), ('attention', 1), ('attending', 1), ('attachmentsir', 1), ('attaching', 1), ('attach', 1), ('assistance', 1), ('assessment', 1), ('asked', 1), ('around', 1), ('area', 1), ('approve', 1), ('appreciated', 1), ('appreciate', 1), ('apologize', 1), ('anticipation', 1), ('another', 1), ('allowing', 1), ('allowed', 1), ('ago', 1), ('againi', 1), ('afteroctober', 1), ('afresh', 1), ('afraid', 1), ('afford', 1), ('adress', 1), ('admin', 1), ('actually', 1), ('activate', 1), ('accessible', 1)]\n"
          ],
          "name": "stdout"
        }
      ]
    },
    {
      "cell_type": "code",
      "metadata": {
        "colab": {
          "base_uri": "https://localhost:8080/"
        },
        "id": "DC1NookG-emE",
        "outputId": "6231ef45-ba5a-497f-f1b3-f0ce9951df45"
      },
      "source": [
        "words = list()\r\n",
        "for w in sorted_counts:\r\n",
        "  words.append(w[0])\r\n",
        "print(words)"
      ],
      "execution_count": null,
      "outputs": [
        {
          "output_type": "stream",
          "text": [
            "['login', 'password', 'time', 'program', 'video', 'online', 'error', 'unable', 'request', 'day', 'complete', 'week', 'registered', 'one', 'link', 'team', 'class', 'issue', 'email', 'detail', 'session', 'received', 'language', 'expired', 'course', 'completed', 'watch', 'tried', 'set', 'possible', 'account', 'access', 'send', 'registration', 'page', 'mail', 'id', 'extend', 'still', 'regarding', 'need', 'message', 'english', 'screenshot', 'problem', 'let', 'last', 'enrolled', 'best', 'application', 'work', 'use', 'take', 'submitted', 'soon', 'reset', 'payment', 'open', 'name', 'log', 'guide', 'free', 'done', 'change', 'available', 'attached', 'weekend', 'support', 'start', 'reply', 'refund', 'professional', 'phone', 'number', 'next', 'new', 'network', 'month', 'looking', 'information', 'find', 'fee', 'confirm', 'check', 'back', 'way', 'watching', 'watched', 'two', 'trying', 'token', 'suddenly', 'since', 'showing', 'schedule', 'say', 'review', 'register', 'regardsi', 'regardshello', 'receipt', 'per', 'participation', 'paid', 'oblige', 'needful', 'mobile', 'made', 'like', 'kind', 'hindi', 'hii', 'held', 'hear', 'going', 'following', 'fix', 'first', 'finish', 'facing', 'extending', 'enable', 'e', 'duration', 'deadline', 'date', 'covid', 'continue', 'confirmation', 'completion', 'chapter', 'case', 'applied', 'youhi', 'yet', 'wrong', 'working', 'well', 'website', 'waiting', 'validity', 'vacancy', 'using', 'username', 'understanding', 'understand', 'tool', 'tomorrow', 'three', 'therefore', 'thankshi', 'thankful', 'submit', 'study', 'student', 'stuck', 'step', 'status', 'started', 'st', 'sorry', 'solve', 'site', 'side', 'showed', 'show', 'share', 'shall', 'second', 'screen', 'scheduled', 'said', 'requested', 'related', 'regardsdear', 'receive', 'reason', 'put', 'pursuing', 'purchased', 'provide', 'process', 'proceed', 'playing', 'personal', 'period', 'pay', 'opted', 'obliged', 'notification', 'net', 'mr', 'moving', 'module', 'mistake', 'missed', 'mind', 'min', 'medical', 'may', 'march', 'many', 'logged', 'line', 'left', 'kept', 'invalid', 'inform', 'inconvenience', 'highly', 'hereby', 'helpful', 'good', 'go', 'given', 'friend', 'four', 'found', 'forward', 'finished', 'extension', 'exam', 'even', 'engineering', 'end', 'emergency', 'earlier', 'document', 'differ', 'didnt', 'currently', 'couple', 'contact', 'consider', 'concern', 'completely', 'college', 'clicked', 'cannot', 'call', 'buy', 'button', 'audio', 'attend', 'assist', 'ask', 'asap', 'app', 'amount', 'allow', 'advise', 'advance', 'active', 'yourespected', 'youi', 'youhello', 'youhad', 'youdear', 'yes', 'year', 'wrote', 'workshop', 'within', 'wish', 'willing', 'whole', 'whether', 'welcome', 'wasnt', 'warriordear', 'warm', 'view', 'utter', 'usually', 'user', 'upgrade', 'update', 'unlike', 'unfortunately', 'understood', 'unauthorised', 'u', 'typing', 'twicehi', 'tutorial', 'tryingn', 'try', 'traveling', 'travel', 'transfer', 'training', 'trail', 'total', 'together', 'thankyou', 'thanksyoudear', 'thanksdear', 'tell', 'telephonic', 'technology', 'task', 'talked', 'tab', 'suggest', 'successfully', 'successfull', 'subscription', 'subscribtion', 'subscribed', 'submission', 'subject', 'stretch', 'streaming', 'stay', 'sso', 'special', 'something', 'someone', 'somehow', 'sitting', 'sit', 'shown', 'ship', 'several', 'setup', 'serious', 'september', 'sept', 'separately', 'separate', 'sent', 'segment', 'seen', 'seek', 'seat', 'savvy', 'sankranti', 'safe', 'right', 'rewind', 'response', 'respect', 'resolving', 'resolve', 'resetting', 'required', 'requesting', 'report', 'repeated', 'repeat', 'renew', 'remaining', 'registering', 'regardssorry', 'regardsrespected', 'regardsdid', 'regardsas', 'regardsafter', 'reference', 'recording', 'ready', 'reading', 'rd', 'r', 'question', 'query', 'purched', 'providing', 'provided', 'properly', 'programme', 'procedurehello', 'procedure', 'price', 'previously', 'previous', 'pressed', 'presently', 'present', 'prerequisite', 'pregnent', 'pray', 'possibility', 'pop', 'point', 'pleasure', 'plea', 'played', 'planning', 'planned', 'plan', 'place', 'piece', 'picked', 'pharmacicts', 'people', 'passwor', 'passcode', 'particular', 'participate', 'part', 'parent', 'pandemic', 'painful', 'opportunity', 'oppertunity', 'onwards', 'offline', 'october', 'obligedi', 'november', 'named', 'much', 'morning', 'money', 'missing', 'minute', 'messege', 'mentioned', 'mention', 'memeber', 'meanwhile', 'matter', 'material', 'manifestaion', 'managed', 'mam', 'make', 'makar', 'magical', 'low', 'lovei', 'lost', 'logging', 'loge', 'location', 'locate', 'little', 'list', 'level', 'lesson', 'lecture', 'learning', 'later', 'kit', 'ki', 'keep', 'jus', 'journey', 'itkindly', 'invitation', 'interupted', 'internet', 'instruction', 'instead', 'insight', 'inorder', 'informed', 'indicated', 'india', 'increase', 'incomplete', 'important', 'immensely', 'husband', 'humbly', 'house', 'hour', 'hostel', 'honorable', 'home', 'hey', 'hellooo', 'hectic', 'health', 'guideline', 'greeting', 'greatly', 'graduation', 'giving', 'givensir', 'give', 'genuine', 'g', 'fundamental', 'fully', 'front', 'fresh', 'forwarding', 'follows', 'follow', 'focus', 'finishing', 'final', 'filled', 'file', 'festivity', 'feedback', 'february', 'father', 'family', 'failed', 'faced', 'extensive', 'extended', 'explore', 'expire', 'experience', 'excess', 'everytime', 'enrollment', 'enroll', 'engagement', 'encountering', 'emil', 'either', 'eg', 'earning', 'early', 'eagerly', 'eager', 'double', 'donot', 'disturbance', 'displayed', 'discover', 'disable', 'directly', 'different', 'difference', 'device', 'detailed', 'despite', 'desktop', 'deposited', 'demanding', 'deleted', 'current', 'crunch', 'credential', 'creating', 'couse', 'cost', 'correct', 'copy', 'conversion', 'content', 'contain', 'connectivity', 'connect', 'confused', 'confirmed', 'concentrate', 'comprises', 'completing', 'commitment', 'cmpy', 'click', 'clarification', 'civil', 'chose', 'changed', 'chance', 'certificate', 'causing', 'cant', 'cancellation', 'cancel', 'came', 'busy', 'bullshit', 'buffering', 'browser', 'bord', 'book', 'bit', 'benefit', 'believing', 'believer', 'bad', 'bachelor', 'attention', 'attending', 'attachmentsir', 'attaching', 'attach', 'assistance', 'assessment', 'asked', 'around', 'area', 'approve', 'appreciated', 'appreciate', 'apologize', 'anticipation', 'another', 'allowing', 'allowed', 'ago', 'againi', 'afteroctober', 'afresh', 'afraid', 'afford', 'adress', 'admin', 'actually', 'activate', 'accessible']\n"
          ],
          "name": "stdout"
        }
      ]
    },
    {
      "cell_type": "code",
      "metadata": {
        "colab": {
          "base_uri": "https://localhost:8080/"
        },
        "id": "dpfMagYnJrno",
        "outputId": "d1ec7bc0-7c76-46d6-9cf9-1daaa8009307"
      },
      "source": [
        "top_100_words = words[0:110]\r\n",
        "print(top_100_words)"
      ],
      "execution_count": null,
      "outputs": [
        {
          "output_type": "stream",
          "text": [
            "['login', 'password', 'time', 'program', 'video', 'online', 'error', 'unable', 'request', 'day', 'complete', 'week', 'registered', 'one', 'link', 'team', 'class', 'issue', 'email', 'detail', 'session', 'received', 'language', 'expired', 'course', 'completed', 'watch', 'tried', 'set', 'possible', 'account', 'access', 'send', 'registration', 'page', 'mail', 'id', 'extend', 'still', 'regarding', 'need', 'message', 'english', 'screenshot', 'problem', 'let', 'last', 'enrolled', 'best', 'application', 'work', 'use', 'take', 'submitted', 'soon', 'reset', 'payment', 'open', 'name', 'log', 'guide', 'free', 'done', 'change', 'available', 'attached', 'weekend', 'support', 'start', 'reply', 'refund', 'professional', 'phone', 'number', 'next', 'new', 'network', 'month', 'looking', 'information', 'find', 'fee', 'confirm', 'check', 'back', 'way', 'watching', 'watched', 'two', 'trying', 'token', 'suddenly', 'since', 'showing', 'schedule', 'say', 'review', 'register', 'regardsi', 'regardshello', 'receipt', 'per', 'participation', 'paid', 'oblige', 'needful', 'mobile', 'made', 'like', 'kind']\n"
          ],
          "name": "stdout"
        }
      ]
    },
    {
      "cell_type": "code",
      "metadata": {
        "colab": {
          "base_uri": "https://localhost:8080/"
        },
        "id": "606TFTjH-Fkm",
        "outputId": "ea173c7d-361b-496b-8bdc-6de4c3cb5857"
      },
      "source": [
        "comment_words = '' \r\n",
        "comment_words += \" \".join(top_100_words)+\" \"\r\n",
        "print(comment_words)"
      ],
      "execution_count": null,
      "outputs": [
        {
          "output_type": "stream",
          "text": [
            "login password time program video online error unable request day complete week registered one link team class issue email detail session received language expired course completed watch tried set possible account access send registration page mail id extend still regarding need message english screenshot problem let last enrolled best application work use take submitted soon reset payment open name log guide free done change available attached weekend support start reply refund professional phone number next new network month looking information find fee confirm check back way watching watched two trying token suddenly since showing schedule say review register regardsi regardshello receipt per participation paid oblige needful mobile made like kind \n"
          ],
          "name": "stdout"
        }
      ]
    },
    {
      "cell_type": "markdown",
      "metadata": {
        "id": "UMtEn6SQwH7U"
      },
      "source": [
        "###Wordcloud"
      ]
    },
    {
      "cell_type": "code",
      "metadata": {
        "colab": {
          "base_uri": "https://localhost:8080/",
          "height": 535
        },
        "id": "wAbyNLbZ-FnU",
        "outputId": "fc57f7ea-eeb4-40e5-b29d-c35bc8f8ecc2"
      },
      "source": [
        "from wordcloud import WordCloud, STOPWORDS \r\n",
        "import matplotlib.pyplot as plt \r\n",
        "wordcloud = WordCloud(width = 800, height = 700, \r\n",
        "                background_color ='white',  \r\n",
        "                min_font_size = 10).generate(comment_words) \r\n",
        "# plot the WordCloud image                        \r\n",
        "plt.figure(figsize = (8, 8), facecolor = None) \r\n",
        "plt.imshow(wordcloud) \r\n",
        "plt.axis(\"off\") \r\n",
        "plt.tight_layout(pad = 0) \r\n",
        "  \r\n",
        "plt.show()\r\n"
      ],
      "execution_count": null,
      "outputs": [
        {
          "output_type": "display_data",
          "data": {
            "image/png": "[encoded data removed]",
            "text/plain": [
              "<Figure size 576x576 with 1 Axes>"
            ]
          },
          "metadata": {
            "tags": [],
            "needs_background": "light"
          }
        }
      ]
    },
    {
      "cell_type": "markdown",
      "metadata": {
        "id": "HA5-ad7XwOFt"
      },
      "source": [
        "###Categorize Types of Cases"
      ]
    },
    {
      "cell_type": "code",
      "metadata": {
        "id": "DYg4DTNTyJvt"
      },
      "source": [
        "df['category'] = df['E-Mails'].apply(lambda x:'Login' if re.search(\"Password|login\",x)else x)"
      ],
      "execution_count": null,
      "outputs": []
    },
    {
      "cell_type": "code",
      "metadata": {
        "id": "qqGVXxOVAhLF"
      },
      "source": [
        "df['category'] = df['E-Mails'].apply(lambda x:'Deadline' if re.search(\"expired|week\",x)else x)"
      ],
      "execution_count": null,
      "outputs": []
    },
    {
      "cell_type": "code",
      "metadata": {
        "id": "3RC705VSAhUW"
      },
      "source": [
        "df['category'] = df['E-Mails'].apply(lambda x:'Program' if re.search(\"video|online\",x)else x)"
      ],
      "execution_count": null,
      "outputs": []
    },
    {
      "cell_type": "code",
      "metadata": {
        "id": "mj2p25lsAh65"
      },
      "source": [
        "df[\"category\"].fillna('Others', inplace = True)"
      ],
      "execution_count": null,
      "outputs": []
    },
    {
      "cell_type": "code",
      "metadata": {
        "colab": {
          "base_uri": "https://localhost:8080/"
        },
        "id": "V8we-c07JuQR",
        "outputId": "3a35ba4e-47a4-42ce-a332-9124ba6522d4"
      },
      "source": [
        "df['category'].value_counts()"
      ],
      "execution_count": null,
      "outputs": [
        {
          "output_type": "execute_result",
          "data": {
            "text/plain": [
              "Login        35\n",
              "Program      27\n",
              "others       26\n",
              "Deadline     22\n",
              "Name: category, dtype: int64"
            ]
          },
          "metadata": {
            "tags": []
          },
          "execution_count": 117
        }
      ]
    },
    {
      "cell_type": "code",
      "metadata": {
        "colab": {
          "base_uri": "https://localhost:8080/",
          "height": 357
        },
        "id": "rclC6q82NqYO",
        "outputId": "06e3b2f4-64ed-4578-fee8-6c7b149bfbba"
      },
      "source": [
        "df['category'].value_counts().plot.bar(figsize=(8,5),width=0.25, color='r');"
      ],
      "execution_count": null,
      "outputs": [
        {
          "output_type": "display_data",
          "data": {
            "image/png": "[encoded data removed]",
            "text/plain": [
              "<Figure size 576x360 with 1 Axes>"
            ]
          },
          "metadata": {
            "tags": [],
            "needs_background": "light"
          }
        }
      ]
    },
    {
      "cell_type": "markdown",
      "metadata": {
        "id": "gIYjvBntwUW3"
      },
      "source": [
        "###Word Embedding"
      ]
    },
    {
      "cell_type": "code",
      "metadata": {
        "id": "POMlnZQ0-Fqk"
      },
      "source": [
        "from sklearn.feature_extraction.text import TfidfVectorizer\r\n",
        "\r\n",
        "tfidf_vect = TfidfVectorizer(analyzer=clean_text)"
      ],
      "execution_count": null,
      "outputs": []
    },
    {
      "cell_type": "code",
      "metadata": {
        "id": "MaRR0PdQobvk"
      },
      "source": [
        "X_tfidf = tfidf_vect.fit_transform(top_100_words)"
      ],
      "execution_count": null,
      "outputs": []
    },
    {
      "cell_type": "code",
      "metadata": {
        "colab": {
          "base_uri": "https://localhost:8080/"
        },
        "id": "KSjLqbr6obyZ",
        "outputId": "27531c91-30d9-499f-c7ec-1e376a764276"
      },
      "source": [
        "print(X_tfidf.shape)\r\n",
        "#feature names\r\n",
        "print(tfidf_vect.get_feature_names())"
      ],
      "execution_count": null,
      "outputs": [
        {
          "output_type": "stream",
          "text": [
            "(110, 108)\n",
            "['access', 'account', 'application', 'attached', 'available', 'back', 'best', 'change', 'check', 'class', 'complete', 'completed', 'confirm', 'day', 'detail', 'done', 'email', 'english', 'enrolled', 'error', 'expired', 'extend', 'fee', 'find', 'free', 'guide', 'id', 'information', 'issue', 'kind', 'language', 'last', 'let', 'like', 'link', 'log', 'login', 'looking', 'made', 'mail', 'message', 'mobile', 'month', 'name', 'need', 'needful', 'network', 'new', 'next', 'number', 'oblige', 'one', 'online', 'open', 'page', 'paid', 'participation', 'password', 'payment', 'per', 'phone', 'possible', 'problem', 'professional', 'program', 'receipt', 'received', 'refund', 'regarding', 'regardshello', 'regardsi', 'register', 'registered', 'registration', 'reply', 'request', 'reset', 'review', 'say', 'schedule', 'screenshot', 'send', 'set', 'showing', 'since', 'soon', 'start', 'still', 'submitted', 'suddenly', 'support', 'take', 'team', 'time', 'token', 'tried', 'trying', 'two', 'unable', 'use', 'video', 'watch', 'watched', 'watching', 'way', 'week', 'weekend', 'work']\n"
          ],
          "name": "stdout"
        }
      ]
    },
    {
      "cell_type": "code",
      "metadata": {
        "colab": {
          "base_uri": "https://localhost:8080/",
          "height": 253
        },
        "id": "Q6nboUBCob3a",
        "outputId": "9c4a7e4f-51ba-4fda-92ae-872f086cd71e"
      },
      "source": [
        "X_tfidf_df = pd.DataFrame(X_tfidf.toarray())\r\n",
        "X_tfidf_df.columns = tfidf_vect.get_feature_names()\r\n",
        "\r\n",
        "X_tfidf_df.head()"
      ],
      "execution_count": null,
      "outputs": [
        {
          "output_type": "execute_result",
          "data": {
            "text/html": [
              "<div>\n",
              "<style scoped>\n",
              "    .dataframe tbody tr th:only-of-type {\n",
              "        vertical-align: middle;\n",
              "    }\n",
              "\n",
              "    .dataframe tbody tr th {\n",
              "        vertical-align: top;\n",
              "    }\n",
              "\n",
              "    .dataframe thead th {\n",
              "        text-align: right;\n",
              "    }\n",
              "</style>\n",
              "<table border=\"1\" class=\"dataframe\">\n",
              "  <thead>\n",
              "    <tr style=\"text-align: right;\">\n",
              "      <th></th>\n",
              "      <th>access</th>\n",
              "      <th>account</th>\n",
              "      <th>application</th>\n",
              "      <th>attached</th>\n",
              "      <th>available</th>\n",
              "      <th>back</th>\n",
              "      <th>best</th>\n",
              "      <th>change</th>\n",
              "      <th>check</th>\n",
              "      <th>class</th>\n",
              "      <th>complete</th>\n",
              "      <th>completed</th>\n",
              "      <th>confirm</th>\n",
              "      <th>day</th>\n",
              "      <th>detail</th>\n",
              "      <th>done</th>\n",
              "      <th>email</th>\n",
              "      <th>english</th>\n",
              "      <th>enrolled</th>\n",
              "      <th>error</th>\n",
              "      <th>expired</th>\n",
              "      <th>extend</th>\n",
              "      <th>fee</th>\n",
              "      <th>find</th>\n",
              "      <th>free</th>\n",
              "      <th>guide</th>\n",
              "      <th>id</th>\n",
              "      <th>information</th>\n",
              "      <th>issue</th>\n",
              "      <th>kind</th>\n",
              "      <th>language</th>\n",
              "      <th>last</th>\n",
              "      <th>let</th>\n",
              "      <th>like</th>\n",
              "      <th>link</th>\n",
              "      <th>log</th>\n",
              "      <th>login</th>\n",
              "      <th>looking</th>\n",
              "      <th>made</th>\n",
              "      <th>mail</th>\n",
              "      <th>...</th>\n",
              "      <th>regarding</th>\n",
              "      <th>regardshello</th>\n",
              "      <th>regardsi</th>\n",
              "      <th>register</th>\n",
              "      <th>registered</th>\n",
              "      <th>registration</th>\n",
              "      <th>reply</th>\n",
              "      <th>request</th>\n",
              "      <th>reset</th>\n",
              "      <th>review</th>\n",
              "      <th>say</th>\n",
              "      <th>schedule</th>\n",
              "      <th>screenshot</th>\n",
              "      <th>send</th>\n",
              "      <th>set</th>\n",
              "      <th>showing</th>\n",
              "      <th>since</th>\n",
              "      <th>soon</th>\n",
              "      <th>start</th>\n",
              "      <th>still</th>\n",
              "      <th>submitted</th>\n",
              "      <th>suddenly</th>\n",
              "      <th>support</th>\n",
              "      <th>take</th>\n",
              "      <th>team</th>\n",
              "      <th>time</th>\n",
              "      <th>token</th>\n",
              "      <th>tried</th>\n",
              "      <th>trying</th>\n",
              "      <th>two</th>\n",
              "      <th>unable</th>\n",
              "      <th>use</th>\n",
              "      <th>video</th>\n",
              "      <th>watch</th>\n",
              "      <th>watched</th>\n",
              "      <th>watching</th>\n",
              "      <th>way</th>\n",
              "      <th>week</th>\n",
              "      <th>weekend</th>\n",
              "      <th>work</th>\n",
              "    </tr>\n",
              "  </thead>\n",
              "  <tbody>\n",
              "    <tr>\n",
              "      <th>0</th>\n",
              "      <td>0.0</td>\n",
              "      <td>0.0</td>\n",
              "      <td>0.0</td>\n",
              "      <td>0.0</td>\n",
              "      <td>0.0</td>\n",
              "      <td>0.0</td>\n",
              "      <td>0.0</td>\n",
              "      <td>0.0</td>\n",
              "      <td>0.0</td>\n",
              "      <td>0.0</td>\n",
              "      <td>0.0</td>\n",
              "      <td>0.0</td>\n",
              "      <td>0.0</td>\n",
              "      <td>0.0</td>\n",
              "      <td>0.0</td>\n",
              "      <td>0.0</td>\n",
              "      <td>0.0</td>\n",
              "      <td>0.0</td>\n",
              "      <td>0.0</td>\n",
              "      <td>0.0</td>\n",
              "      <td>0.0</td>\n",
              "      <td>0.0</td>\n",
              "      <td>0.0</td>\n",
              "      <td>0.0</td>\n",
              "      <td>0.0</td>\n",
              "      <td>0.0</td>\n",
              "      <td>0.0</td>\n",
              "      <td>0.0</td>\n",
              "      <td>0.0</td>\n",
              "      <td>0.0</td>\n",
              "      <td>0.0</td>\n",
              "      <td>0.0</td>\n",
              "      <td>0.0</td>\n",
              "      <td>0.0</td>\n",
              "      <td>0.0</td>\n",
              "      <td>0.0</td>\n",
              "      <td>1.0</td>\n",
              "      <td>0.0</td>\n",
              "      <td>0.0</td>\n",
              "      <td>0.0</td>\n",
              "      <td>...</td>\n",
              "      <td>0.0</td>\n",
              "      <td>0.0</td>\n",
              "      <td>0.0</td>\n",
              "      <td>0.0</td>\n",
              "      <td>0.0</td>\n",
              "      <td>0.0</td>\n",
              "      <td>0.0</td>\n",
              "      <td>0.0</td>\n",
              "      <td>0.0</td>\n",
              "      <td>0.0</td>\n",
              "      <td>0.0</td>\n",
              "      <td>0.0</td>\n",
              "      <td>0.0</td>\n",
              "      <td>0.0</td>\n",
              "      <td>0.0</td>\n",
              "      <td>0.0</td>\n",
              "      <td>0.0</td>\n",
              "      <td>0.0</td>\n",
              "      <td>0.0</td>\n",
              "      <td>0.0</td>\n",
              "      <td>0.0</td>\n",
              "      <td>0.0</td>\n",
              "      <td>0.0</td>\n",
              "      <td>0.0</td>\n",
              "      <td>0.0</td>\n",
              "      <td>0.0</td>\n",
              "      <td>0.0</td>\n",
              "      <td>0.0</td>\n",
              "      <td>0.0</td>\n",
              "      <td>0.0</td>\n",
              "      <td>0.0</td>\n",
              "      <td>0.0</td>\n",
              "      <td>0.0</td>\n",
              "      <td>0.0</td>\n",
              "      <td>0.0</td>\n",
              "      <td>0.0</td>\n",
              "      <td>0.0</td>\n",
              "      <td>0.0</td>\n",
              "      <td>0.0</td>\n",
              "      <td>0.0</td>\n",
              "    </tr>\n",
              "    <tr>\n",
              "      <th>1</th>\n",
              "      <td>0.0</td>\n",
              "      <td>0.0</td>\n",
              "      <td>0.0</td>\n",
              "      <td>0.0</td>\n",
              "      <td>0.0</td>\n",
              "      <td>0.0</td>\n",
              "      <td>0.0</td>\n",
              "      <td>0.0</td>\n",
              "      <td>0.0</td>\n",
              "      <td>0.0</td>\n",
              "      <td>0.0</td>\n",
              "      <td>0.0</td>\n",
              "      <td>0.0</td>\n",
              "      <td>0.0</td>\n",
              "      <td>0.0</td>\n",
              "      <td>0.0</td>\n",
              "      <td>0.0</td>\n",
              "      <td>0.0</td>\n",
              "      <td>0.0</td>\n",
              "      <td>0.0</td>\n",
              "      <td>0.0</td>\n",
              "      <td>0.0</td>\n",
              "      <td>0.0</td>\n",
              "      <td>0.0</td>\n",
              "      <td>0.0</td>\n",
              "      <td>0.0</td>\n",
              "      <td>0.0</td>\n",
              "      <td>0.0</td>\n",
              "      <td>0.0</td>\n",
              "      <td>0.0</td>\n",
              "      <td>0.0</td>\n",
              "      <td>0.0</td>\n",
              "      <td>0.0</td>\n",
              "      <td>0.0</td>\n",
              "      <td>0.0</td>\n",
              "      <td>0.0</td>\n",
              "      <td>0.0</td>\n",
              "      <td>0.0</td>\n",
              "      <td>0.0</td>\n",
              "      <td>0.0</td>\n",
              "      <td>...</td>\n",
              "      <td>0.0</td>\n",
              "      <td>0.0</td>\n",
              "      <td>0.0</td>\n",
              "      <td>0.0</td>\n",
              "      <td>0.0</td>\n",
              "      <td>0.0</td>\n",
              "      <td>0.0</td>\n",
              "      <td>0.0</td>\n",
              "      <td>0.0</td>\n",
              "      <td>0.0</td>\n",
              "      <td>0.0</td>\n",
              "      <td>0.0</td>\n",
              "      <td>0.0</td>\n",
              "      <td>0.0</td>\n",
              "      <td>0.0</td>\n",
              "      <td>0.0</td>\n",
              "      <td>0.0</td>\n",
              "      <td>0.0</td>\n",
              "      <td>0.0</td>\n",
              "      <td>0.0</td>\n",
              "      <td>0.0</td>\n",
              "      <td>0.0</td>\n",
              "      <td>0.0</td>\n",
              "      <td>0.0</td>\n",
              "      <td>0.0</td>\n",
              "      <td>0.0</td>\n",
              "      <td>0.0</td>\n",
              "      <td>0.0</td>\n",
              "      <td>0.0</td>\n",
              "      <td>0.0</td>\n",
              "      <td>0.0</td>\n",
              "      <td>0.0</td>\n",
              "      <td>0.0</td>\n",
              "      <td>0.0</td>\n",
              "      <td>0.0</td>\n",
              "      <td>0.0</td>\n",
              "      <td>0.0</td>\n",
              "      <td>0.0</td>\n",
              "      <td>0.0</td>\n",
              "      <td>0.0</td>\n",
              "    </tr>\n",
              "    <tr>\n",
              "      <th>2</th>\n",
              "      <td>0.0</td>\n",
              "      <td>0.0</td>\n",
              "      <td>0.0</td>\n",
              "      <td>0.0</td>\n",
              "      <td>0.0</td>\n",
              "      <td>0.0</td>\n",
              "      <td>0.0</td>\n",
              "      <td>0.0</td>\n",
              "      <td>0.0</td>\n",
              "      <td>0.0</td>\n",
              "      <td>0.0</td>\n",
              "      <td>0.0</td>\n",
              "      <td>0.0</td>\n",
              "      <td>0.0</td>\n",
              "      <td>0.0</td>\n",
              "      <td>0.0</td>\n",
              "      <td>0.0</td>\n",
              "      <td>0.0</td>\n",
              "      <td>0.0</td>\n",
              "      <td>0.0</td>\n",
              "      <td>0.0</td>\n",
              "      <td>0.0</td>\n",
              "      <td>0.0</td>\n",
              "      <td>0.0</td>\n",
              "      <td>0.0</td>\n",
              "      <td>0.0</td>\n",
              "      <td>0.0</td>\n",
              "      <td>0.0</td>\n",
              "      <td>0.0</td>\n",
              "      <td>0.0</td>\n",
              "      <td>0.0</td>\n",
              "      <td>0.0</td>\n",
              "      <td>0.0</td>\n",
              "      <td>0.0</td>\n",
              "      <td>0.0</td>\n",
              "      <td>0.0</td>\n",
              "      <td>0.0</td>\n",
              "      <td>0.0</td>\n",
              "      <td>0.0</td>\n",
              "      <td>0.0</td>\n",
              "      <td>...</td>\n",
              "      <td>0.0</td>\n",
              "      <td>0.0</td>\n",
              "      <td>0.0</td>\n",
              "      <td>0.0</td>\n",
              "      <td>0.0</td>\n",
              "      <td>0.0</td>\n",
              "      <td>0.0</td>\n",
              "      <td>0.0</td>\n",
              "      <td>0.0</td>\n",
              "      <td>0.0</td>\n",
              "      <td>0.0</td>\n",
              "      <td>0.0</td>\n",
              "      <td>0.0</td>\n",
              "      <td>0.0</td>\n",
              "      <td>0.0</td>\n",
              "      <td>0.0</td>\n",
              "      <td>0.0</td>\n",
              "      <td>0.0</td>\n",
              "      <td>0.0</td>\n",
              "      <td>0.0</td>\n",
              "      <td>0.0</td>\n",
              "      <td>0.0</td>\n",
              "      <td>0.0</td>\n",
              "      <td>0.0</td>\n",
              "      <td>0.0</td>\n",
              "      <td>1.0</td>\n",
              "      <td>0.0</td>\n",
              "      <td>0.0</td>\n",
              "      <td>0.0</td>\n",
              "      <td>0.0</td>\n",
              "      <td>0.0</td>\n",
              "      <td>0.0</td>\n",
              "      <td>0.0</td>\n",
              "      <td>0.0</td>\n",
              "      <td>0.0</td>\n",
              "      <td>0.0</td>\n",
              "      <td>0.0</td>\n",
              "      <td>0.0</td>\n",
              "      <td>0.0</td>\n",
              "      <td>0.0</td>\n",
              "    </tr>\n",
              "    <tr>\n",
              "      <th>3</th>\n",
              "      <td>0.0</td>\n",
              "      <td>0.0</td>\n",
              "      <td>0.0</td>\n",
              "      <td>0.0</td>\n",
              "      <td>0.0</td>\n",
              "      <td>0.0</td>\n",
              "      <td>0.0</td>\n",
              "      <td>0.0</td>\n",
              "      <td>0.0</td>\n",
              "      <td>0.0</td>\n",
              "      <td>0.0</td>\n",
              "      <td>0.0</td>\n",
              "      <td>0.0</td>\n",
              "      <td>0.0</td>\n",
              "      <td>0.0</td>\n",
              "      <td>0.0</td>\n",
              "      <td>0.0</td>\n",
              "      <td>0.0</td>\n",
              "      <td>0.0</td>\n",
              "      <td>0.0</td>\n",
              "      <td>0.0</td>\n",
              "      <td>0.0</td>\n",
              "      <td>0.0</td>\n",
              "      <td>0.0</td>\n",
              "      <td>0.0</td>\n",
              "      <td>0.0</td>\n",
              "      <td>0.0</td>\n",
              "      <td>0.0</td>\n",
              "      <td>0.0</td>\n",
              "      <td>0.0</td>\n",
              "      <td>0.0</td>\n",
              "      <td>0.0</td>\n",
              "      <td>0.0</td>\n",
              "      <td>0.0</td>\n",
              "      <td>0.0</td>\n",
              "      <td>0.0</td>\n",
              "      <td>0.0</td>\n",
              "      <td>0.0</td>\n",
              "      <td>0.0</td>\n",
              "      <td>0.0</td>\n",
              "      <td>...</td>\n",
              "      <td>0.0</td>\n",
              "      <td>0.0</td>\n",
              "      <td>0.0</td>\n",
              "      <td>0.0</td>\n",
              "      <td>0.0</td>\n",
              "      <td>0.0</td>\n",
              "      <td>0.0</td>\n",
              "      <td>0.0</td>\n",
              "      <td>0.0</td>\n",
              "      <td>0.0</td>\n",
              "      <td>0.0</td>\n",
              "      <td>0.0</td>\n",
              "      <td>0.0</td>\n",
              "      <td>0.0</td>\n",
              "      <td>0.0</td>\n",
              "      <td>0.0</td>\n",
              "      <td>0.0</td>\n",
              "      <td>0.0</td>\n",
              "      <td>0.0</td>\n",
              "      <td>0.0</td>\n",
              "      <td>0.0</td>\n",
              "      <td>0.0</td>\n",
              "      <td>0.0</td>\n",
              "      <td>0.0</td>\n",
              "      <td>0.0</td>\n",
              "      <td>0.0</td>\n",
              "      <td>0.0</td>\n",
              "      <td>0.0</td>\n",
              "      <td>0.0</td>\n",
              "      <td>0.0</td>\n",
              "      <td>0.0</td>\n",
              "      <td>0.0</td>\n",
              "      <td>0.0</td>\n",
              "      <td>0.0</td>\n",
              "      <td>0.0</td>\n",
              "      <td>0.0</td>\n",
              "      <td>0.0</td>\n",
              "      <td>0.0</td>\n",
              "      <td>0.0</td>\n",
              "      <td>0.0</td>\n",
              "    </tr>\n",
              "    <tr>\n",
              "      <th>4</th>\n",
              "      <td>0.0</td>\n",
              "      <td>0.0</td>\n",
              "      <td>0.0</td>\n",
              "      <td>0.0</td>\n",
              "      <td>0.0</td>\n",
              "      <td>0.0</td>\n",
              "      <td>0.0</td>\n",
              "      <td>0.0</td>\n",
              "      <td>0.0</td>\n",
              "      <td>0.0</td>\n",
              "      <td>0.0</td>\n",
              "      <td>0.0</td>\n",
              "      <td>0.0</td>\n",
              "      <td>0.0</td>\n",
              "      <td>0.0</td>\n",
              "      <td>0.0</td>\n",
              "      <td>0.0</td>\n",
              "      <td>0.0</td>\n",
              "      <td>0.0</td>\n",
              "      <td>0.0</td>\n",
              "      <td>0.0</td>\n",
              "      <td>0.0</td>\n",
              "      <td>0.0</td>\n",
              "      <td>0.0</td>\n",
              "      <td>0.0</td>\n",
              "      <td>0.0</td>\n",
              "      <td>0.0</td>\n",
              "      <td>0.0</td>\n",
              "      <td>0.0</td>\n",
              "      <td>0.0</td>\n",
              "      <td>0.0</td>\n",
              "      <td>0.0</td>\n",
              "      <td>0.0</td>\n",
              "      <td>0.0</td>\n",
              "      <td>0.0</td>\n",
              "      <td>0.0</td>\n",
              "      <td>0.0</td>\n",
              "      <td>0.0</td>\n",
              "      <td>0.0</td>\n",
              "      <td>0.0</td>\n",
              "      <td>...</td>\n",
              "      <td>0.0</td>\n",
              "      <td>0.0</td>\n",
              "      <td>0.0</td>\n",
              "      <td>0.0</td>\n",
              "      <td>0.0</td>\n",
              "      <td>0.0</td>\n",
              "      <td>0.0</td>\n",
              "      <td>0.0</td>\n",
              "      <td>0.0</td>\n",
              "      <td>0.0</td>\n",
              "      <td>0.0</td>\n",
              "      <td>0.0</td>\n",
              "      <td>0.0</td>\n",
              "      <td>0.0</td>\n",
              "      <td>0.0</td>\n",
              "      <td>0.0</td>\n",
              "      <td>0.0</td>\n",
              "      <td>0.0</td>\n",
              "      <td>0.0</td>\n",
              "      <td>0.0</td>\n",
              "      <td>0.0</td>\n",
              "      <td>0.0</td>\n",
              "      <td>0.0</td>\n",
              "      <td>0.0</td>\n",
              "      <td>0.0</td>\n",
              "      <td>0.0</td>\n",
              "      <td>0.0</td>\n",
              "      <td>0.0</td>\n",
              "      <td>0.0</td>\n",
              "      <td>0.0</td>\n",
              "      <td>0.0</td>\n",
              "      <td>0.0</td>\n",
              "      <td>1.0</td>\n",
              "      <td>0.0</td>\n",
              "      <td>0.0</td>\n",
              "      <td>0.0</td>\n",
              "      <td>0.0</td>\n",
              "      <td>0.0</td>\n",
              "      <td>0.0</td>\n",
              "      <td>0.0</td>\n",
              "    </tr>\n",
              "  </tbody>\n",
              "</table>\n",
              "<p>5 rows × 108 columns</p>\n",
              "</div>"
            ],
            "text/plain": [
              "   access  account  application  attached  ...  way  week  weekend  work\n",
              "0     0.0      0.0          0.0       0.0  ...  0.0   0.0      0.0   0.0\n",
              "1     0.0      0.0          0.0       0.0  ...  0.0   0.0      0.0   0.0\n",
              "2     0.0      0.0          0.0       0.0  ...  0.0   0.0      0.0   0.0\n",
              "3     0.0      0.0          0.0       0.0  ...  0.0   0.0      0.0   0.0\n",
              "4     0.0      0.0          0.0       0.0  ...  0.0   0.0      0.0   0.0\n",
              "\n",
              "[5 rows x 108 columns]"
            ]
          },
          "metadata": {
            "tags": []
          },
          "execution_count": 136
        }
      ]
    },
    {
      "cell_type": "code",
      "metadata": {
        "id": "LDG_fdYnSNQZ"
      },
      "source": [
        "dictionary={'Deadline':1,'Login':2,'Program':3,'others':4}"
      ],
      "execution_count": null,
      "outputs": []
    },
    {
      "cell_type": "code",
      "metadata": {
        "colab": {
          "base_uri": "https://localhost:8080/"
        },
        "id": "LYoig0viUW_z",
        "outputId": "165974b5-381c-4032-c2f2-4ce7d3efba34"
      },
      "source": [
        "dictionary"
      ],
      "execution_count": null,
      "outputs": [
        {
          "output_type": "execute_result",
          "data": {
            "text/plain": [
              "{'Deadline': 1, 'Login': 2, 'Program': 3, 'others': 4}"
            ]
          },
          "metadata": {
            "tags": []
          },
          "execution_count": 84
        }
      ]
    },
    {
      "cell_type": "code",
      "metadata": {
        "colab": {
          "base_uri": "https://localhost:8080/",
          "height": 204
        },
        "id": "i7Cg7n1qeViN",
        "outputId": "6c8f3fb1-1a9f-4314-d1eb-be720b53e6d7"
      },
      "source": [
        "#df['category_ordinal']=df['category'].map(dictionary)\r\n",
        "df.head()"
      ],
      "execution_count": null,
      "outputs": [
        {
          "output_type": "execute_result",
          "data": {
            "text/html": [
              "<div>\n",
              "<style scoped>\n",
              "    .dataframe tbody tr th:only-of-type {\n",
              "        vertical-align: middle;\n",
              "    }\n",
              "\n",
              "    .dataframe tbody tr th {\n",
              "        vertical-align: top;\n",
              "    }\n",
              "\n",
              "    .dataframe thead th {\n",
              "        text-align: right;\n",
              "    }\n",
              "</style>\n",
              "<table border=\"1\" class=\"dataframe\">\n",
              "  <thead>\n",
              "    <tr style=\"text-align: right;\">\n",
              "      <th></th>\n",
              "      <th>E-Mails</th>\n",
              "      <th>category</th>\n",
              "      <th>category_ordinal</th>\n",
              "    </tr>\n",
              "  </thead>\n",
              "  <tbody>\n",
              "    <tr>\n",
              "      <th>0</th>\n",
              "      <td>Respected Sir,I have Applied for Course .Being...</td>\n",
              "      <td>others</td>\n",
              "      <td>4</td>\n",
              "    </tr>\n",
              "    <tr>\n",
              "      <th>1</th>\n",
              "      <td>Hi,I'm unable to Change the password with belo...</td>\n",
              "      <td>Login</td>\n",
              "      <td>2</td>\n",
              "    </tr>\n",
              "    <tr>\n",
              "      <th>2</th>\n",
              "      <td>Hi team,I had enrolled in the course and had t...</td>\n",
              "      <td>Deadline</td>\n",
              "      <td>1</td>\n",
              "    </tr>\n",
              "    <tr>\n",
              "      <th>3</th>\n",
              "      <td>Hello, I am not able login in session. thanks</td>\n",
              "      <td>Login</td>\n",
              "      <td>2</td>\n",
              "    </tr>\n",
              "    <tr>\n",
              "      <th>4</th>\n",
              "      <td>Hi,I won't able to complete the program before...</td>\n",
              "      <td>Deadline</td>\n",
              "      <td>1</td>\n",
              "    </tr>\n",
              "  </tbody>\n",
              "</table>\n",
              "</div>"
            ],
            "text/plain": [
              "                                             E-Mails  ... category_ordinal\n",
              "0  Respected Sir,I have Applied for Course .Being...  ...                4\n",
              "1  Hi,I'm unable to Change the password with belo...  ...                2\n",
              "2  Hi team,I had enrolled in the course and had t...  ...                1\n",
              "3      Hello, I am not able login in session. thanks  ...                2\n",
              "4  Hi,I won't able to complete the program before...  ...                1\n",
              "\n",
              "[5 rows x 3 columns]"
            ]
          },
          "metadata": {
            "tags": []
          },
          "execution_count": 123
        }
      ]
    },
    {
      "cell_type": "markdown",
      "metadata": {
        "id": "qntQe4BQwc_F"
      },
      "source": [
        "###Building Model"
      ]
    },
    {
      "cell_type": "code",
      "metadata": {
        "id": "DYFl4qK0ob90"
      },
      "source": [
        "x = X_tfidf_df.values\r\n",
        "# the dependent variable\r\n",
        "y = df['category_ordinal'].values\r\n"
      ],
      "execution_count": null,
      "outputs": []
    },
    {
      "cell_type": "code",
      "metadata": {
        "colab": {
          "base_uri": "https://localhost:8080/"
        },
        "id": "_RFdqqocQ6MH",
        "outputId": "33a464e1-b818-43eb-f69a-0bfb327ae221"
      },
      "source": [
        "#shape of the dependent and independent data\r\n",
        "print(\"Shape of Independent data \", x.shape)\r\n",
        "print(\"Shape of Dependent data \",y.shape)"
      ],
      "execution_count": null,
      "outputs": [
        {
          "output_type": "stream",
          "text": [
            "Shape of Independent data  (110, 108)\n",
            "Shape of Dependent data  (110,)\n"
          ],
          "name": "stdout"
        }
      ]
    },
    {
      "cell_type": "code",
      "metadata": {
        "id": "sHettie1Q6Os"
      },
      "source": [
        "# Split X and y into training and test set in 70:30 ratio\r\n",
        "from sklearn.model_selection import train_test_split\r\n",
        "x_train, x_test, y_train, y_test = train_test_split(x, y, test_size=0.30, random_state=1)"
      ],
      "execution_count": null,
      "outputs": []
    },
    {
      "cell_type": "code",
      "metadata": {
        "colab": {
          "base_uri": "https://localhost:8080/"
        },
        "id": "vMkKw2DfQ6RF",
        "outputId": "92ccabf0-5d00-4004-80e1-a627fe048f66"
      },
      "source": [
        "#Shape\r\n",
        "print(\"Training data :\")\r\n",
        "print(x_train.shape)\r\n",
        "print(y_train.shape)\r\n",
        "print(\"Testing data :\")\r\n",
        "print(x_test.shape)\r\n",
        "print(y_test.shape)"
      ],
      "execution_count": null,
      "outputs": [
        {
          "output_type": "stream",
          "text": [
            "Training data :\n",
            "(77, 108)\n",
            "(77,)\n",
            "Testing data :\n",
            "(33, 108)\n",
            "(33,)\n"
          ],
          "name": "stdout"
        }
      ]
    },
    {
      "cell_type": "code",
      "metadata": {
        "colab": {
          "base_uri": "https://localhost:8080/"
        },
        "id": "vavXbygjQ6T6",
        "outputId": "774fb0d3-f0af-4e6d-f43e-222f4b53ba34"
      },
      "source": [
        "from sklearn.naive_bayes import MultinomialNB\r\n",
        "from sklearn.metrics import accuracy_score,confusion_matrix\r\n",
        "from sklearn.metrics import classification_report\r\n",
        "#Naive Bayes Classifier\r\n",
        "clf = MultinomialNB()\r\n",
        "clf.fit(x_train,y_train)"
      ],
      "execution_count": null,
      "outputs": [
        {
          "output_type": "execute_result",
          "data": {
            "text/plain": [
              "MultinomialNB(alpha=1.0, class_prior=None, fit_prior=True)"
            ]
          },
          "metadata": {
            "tags": []
          },
          "execution_count": 164
        }
      ]
    },
    {
      "cell_type": "code",
      "metadata": {
        "id": "kjB4YcEluhRs"
      },
      "source": [
        "y_pred = clf.predict(x_test)"
      ],
      "execution_count": null,
      "outputs": []
    },
    {
      "cell_type": "code",
      "metadata": {
        "id": "Nmk7U0h015Mr"
      },
      "source": [
        "NB_conf_matrix = confusion_matrix(y_test, y_pred)\r\n",
        "print(NB_conf_matrix)"
      ],
      "execution_count": null,
      "outputs": []
    },
    {
      "cell_type": "code",
      "metadata": {
        "id": "5m0jzDiW15QS"
      },
      "source": [
        "NB_accuracy = accuracy_score(y_test, y_pred)\r\n",
        "print(NB_accuracy)"
      ],
      "execution_count": null,
      "outputs": []
    },
    {
      "cell_type": "code",
      "metadata": {
        "colab": {
          "base_uri": "https://localhost:8080/"
        },
        "id": "bwBqiIsV2AM4",
        "outputId": "982beadc-6fbb-4b3a-f7e5-a45648f89ab6"
      },
      "source": [
        "from sklearn.linear_model import LogisticRegression\r\n",
        "from sklearn.metrics import accuracy_score,confusion_matrix\r\n",
        "\r\n",
        "#defining the model\r\n",
        "LogRes_model = LogisticRegression()\r\n",
        "#fitting the train set to the model\r\n",
        "LogRes_model.fit(x_train, y_train)\r\n"
      ],
      "execution_count": null,
      "outputs": [
        {
          "output_type": "execute_result",
          "data": {
            "text/plain": [
              "LogisticRegression(C=1.0, class_weight=None, dual=False, fit_intercept=True,\n",
              "                   intercept_scaling=1, l1_ratio=None, max_iter=100,\n",
              "                   multi_class='auto', n_jobs=None, penalty='l2',\n",
              "                   random_state=None, solver='lbfgs', tol=0.0001, verbose=0,\n",
              "                   warm_start=False)"
            ]
          },
          "metadata": {
            "tags": []
          },
          "execution_count": 145
        }
      ]
    },
    {
      "cell_type": "code",
      "metadata": {
        "id": "uXrEq9ax2AWE"
      },
      "source": [
        "prediction = LogRes_model.predict(x_test)\r\n",
        "print(prediction)"
      ],
      "execution_count": null,
      "outputs": []
    },
    {
      "cell_type": "code",
      "metadata": {
        "id": "KzFR9Ksk2AY7"
      },
      "source": [
        "conf_matrix = confusion_matrix(y_test, prediction)\r\n",
        "print(conf_matrix)"
      ],
      "execution_count": null,
      "outputs": []
    },
    {
      "cell_type": "code",
      "metadata": {
        "id": "Lz7Kwax02Abf"
      },
      "source": [
        "accuracy = accuracy_score(y_test, prediction)\r\n",
        "print(accuracy)"
      ],
      "execution_count": null,
      "outputs": []
    }
  ]
}